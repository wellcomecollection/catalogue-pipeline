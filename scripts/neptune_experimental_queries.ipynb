{
 "cells": [
  {
   "cell_type": "code",
   "execution_count": 59,
   "metadata": {
    "ExecuteTime": {
     "end_time": "2024-12-10T09:46:24.193547Z",
     "start_time": "2024-12-10T09:46:22.627832Z"
    }
   },
   "outputs": [],
   "source": [
    "import json\n",
    "\n",
    "import requests\n",
    "import boto3\n",
    "from botocore.auth import SigV4Auth\n",
    "from botocore.awsrequest import AWSRequest\n",
    "\n",
    "import urllib3\n",
    "urllib3.disable_warnings(urllib3.exceptions.InsecureRequestWarning)\n",
    "\n",
    "session = boto3.Session(profile_name=\"platform-developer\")\n",
    "\n",
    "\n",
    "def _get_secret(secret_name: str):\n",
    "    secrets_manager_client = session.client('secretsmanager', region_name='eu-west-1')\n",
    "    response = secrets_manager_client.get_secret_value(SecretId=secret_name)\n",
    "\n",
    "    return response['SecretString']\n",
    "\n",
    "# The experimental database is accessible from outside of the VPC via a Network Load Balancer (NLB) for testing purposes\n",
    "LOAD_BALANCER_URL = _get_secret(\"NeptuneTest/LoadBalancerUrl\")\n",
    "NEPTUNE_INSTANCE_ENDPOINT = _get_secret(\"NeptuneTest/InstanceEndpoint\")\n",
    "\n",
    "def run_open_cypher_query(query: str):\n",
    "    \"\"\"Run a Cypher query against an experimental serverless Neptune cluster\"\"\"\n",
    "    open_cypher_endpoint_url = f'{LOAD_BALANCER_URL}/openCypher'\n",
    "\n",
    "    headers = {\n",
    "        \"Host\": NEPTUNE_INSTANCE_ENDPOINT,\n",
    "        \"Content-Type\": \"application/json\"\n",
    "    }\n",
    "    payload = {\"query\": query}\n",
    "    \n",
    "    # We use IAM database authentication, which means we need to authenticate the request using AWS Signature\n",
    "    request = AWSRequest(method=\"POST\", url=open_cypher_endpoint_url, data=json.dumps(payload), headers=headers)\n",
    "    SigV4Auth(session.get_credentials(), \"neptune-db\", \"eu-west-1\" ).add_auth(request)\n",
    "\n",
    "    # We need to send a manual request rather than using boto3 since we are accessing the instance via a NLB\n",
    "    response = requests.post(\n",
    "        open_cypher_endpoint_url,\n",
    "        data=json.dumps(payload),\n",
    "        headers=dict(request.headers),\n",
    "        # We are using the default NLB DNS name, which does not support custom SSL certificates, so we need to disable SSL certificate verification.\n",
    "        # This increases the risks of a man-in-the-middle attack, which is acceptable for a testing database.\n",
    "        # In production, we will be connecting to the database directly from within the VPC.\n",
    "        verify=False\n",
    "    )\n",
    "\n",
    "    if response.status_code != 200:\n",
    "        raise Exception(response.content)\n",
    "\n",
    "    return response.json()"
   ]
  },
  {
   "cell_type": "code",
   "execution_count": null,
   "metadata": {},
   "outputs": [],
   "source": [
    "query = \"\"\"\n",
    "CREATE (n:Person {name: 'Alice', age: 30, city: 'New York'})\n",
    "RETURN n\n",
    "\"\"\"\n",
    "\n",
    "run_open_cypher_query(query)"
   ]
  },
  {
   "cell_type": "code",
   "execution_count": 67,
   "metadata": {
    "ExecuteTime": {
     "end_time": "2024-12-10T09:51:35.288073Z",
     "start_time": "2024-12-10T09:51:34.570581Z"
    }
   },
   "outputs": [
    {
     "data": {
      "text/plain": "{'results': []}"
     },
     "execution_count": 67,
     "metadata": {},
     "output_type": "execute_result"
    }
   ],
   "source": [
    "query = \"\"\"\n",
    "MATCH (person:SourceConcept {id: \"sh00000011\"})-[:NARROWER_THAN]->(friend)\n",
    "RETURN friend;\n",
    "\"\"\"\n",
    "\n",
    "run_open_cypher_query(query)"
   ]
  },
  {
   "cell_type": "code",
   "outputs": [
    {
     "data": {
      "text/plain": "{'results': []}"
     },
     "execution_count": 72,
     "metadata": {},
     "output_type": "execute_result"
    }
   ],
   "source": [
    "query = \"\"\"\n",
    "MATCH (person:SourceConcept {id: \"sh00000011\"})\n",
    "RETURN person\n",
    "\"\"\"\n",
    "\n",
    "run_open_cypher_query(query)"
   ],
   "metadata": {
    "collapsed": false,
    "ExecuteTime": {
     "end_time": "2024-12-10T09:57:24.678422Z",
     "start_time": "2024-12-10T09:57:24.401967Z"
    }
   },
   "execution_count": 72
  },
  {
   "cell_type": "code",
   "outputs": [],
   "source": [],
   "metadata": {
    "collapsed": false
   }
  }
 ],
 "metadata": {
  "kernelspec": {
   "display_name": "Python 3",
   "language": "python",
   "name": "python3"
  },
  "language_info": {
   "codemirror_mode": {
    "name": "ipython",
    "version": 3
   },
   "file_extension": ".py",
   "mimetype": "text/x-python",
   "name": "python",
   "nbconvert_exporter": "python",
   "pygments_lexer": "ipython3",
   "version": "3.10.11"
  }
 },
 "nbformat": 4,
 "nbformat_minor": 2
}
