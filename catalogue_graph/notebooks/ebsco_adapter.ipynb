{
 "cells": [
  {
   "cell_type": "code",
   "execution_count": null,
   "id": "8181fe9b",
   "metadata": {},
   "outputs": [],
   "source": [
    "# Configure AWS profile for local development\n",
    "%env AWS_PROFILE=platform-developer\n",
    "\n",
    "# Example: Fetch the first 10 records from the S3 Tables Iceberg REST API backed table\n",
    "#\n",
    "# Prerequisites:\n",
    "#   - AWS credentials with permission to call S3 Tables (Iceberg REST API) + read underlying S3 data are available\n",
    "#   - (Optional) Override defaults with env vars: AWS_REGION, AWS_ACCOUNT_ID, S3_TABLES_BUCKET,\n",
    "#       GLUE_TABLE_NAME, GLUE_NAMESPACE\n",
    "#\n",
    "# This reuses the existing helper in `table_config.get_rest_api_table`.\n",
    "# If you just want to experiment locally without AWS, see Cell 2 (you can switch it to use get_local_table).\n",
    "\n",
    "from adapters.ebsco.config import (\n",
    "    AWS_ACCOUNT_ID,\n",
    "    AWS_REGION,\n",
    "    REST_API_NAMESPACE,\n",
    "    REST_API_TABLE_NAME,\n",
    "    S3_TABLES_BUCKET,\n",
    ")\n",
    "from adapters.ebsco.table_config import get_rest_api_table\n",
    "\n",
    "# Load the Iceberg table via the S3 Tables Iceberg REST API\n",
    "table = get_rest_api_table(\n",
    "    s3_tables_bucket=S3_TABLES_BUCKET,\n",
    "    table_name=REST_API_TABLE_NAME,\n",
    "    namespace=REST_API_NAMESPACE,\n",
    "    region=AWS_REGION,\n",
    "    account_id=AWS_ACCOUNT_ID,\n",
    ")\n",
    "print(f\"Loaded Iceberg table: {REST_API_NAMESPACE}.{REST_API_TABLE_NAME}\")"
   ]
  },
  {
   "cell_type": "code",
   "execution_count": null,
   "id": "36aaba20",
   "metadata": {},
   "outputs": [],
   "source": [
    "# Retrieve the first 10 data rows (excluding any projection to keep all columns)\n",
    "first_10 = table.scan(\n",
    "    selected_fields=(\"namespace\", \"id\", \"content\"),\n",
    "    limit=10,\n",
    ").to_arrow()\n",
    "\n",
    "print(f\"Fetched {first_10.num_rows} rows\")\n",
    "\n",
    "# Display nicely (Arrow -> pandas DataFrame) if pandas is available\n",
    "try:\n",
    "    display(first_10.to_pandas())  # type: ignore[name-defined]\n",
    "except Exception:\n",
    "    # Fallback: print as list of dicts\n",
    "    from pprint import pprint\n",
    "\n",
    "    pprint(first_10.to_pylist())"
   ]
  },
  {
   "cell_type": "code",
   "execution_count": null,
   "id": "51244b4c",
   "metadata": {},
   "outputs": [],
   "source": [
    "# Delete all rows using pyiceberg's row-level delete API only (no fallback).\n",
    "# Run the table-loading cell first so `table` is defined.\n",
    "\n",
    "# WARNING: This will irreversibly delete all data in the table!!!\n",
    "# DO NOT run this cell if you are not absolutely sure what you're doing.\n",
    "\n",
    "\n",
    "try:\n",
    "    _ = table.schema()\n",
    "except NameError as e:  # pragma: no cover\n",
    "    raise RuntimeError(\n",
    "        \"`table` is not defined. Run the table-loading cell first.\"\n",
    "    ) from e\n",
    "\n",
    "before_count = table.scan().count()\n",
    "print(f\"Rows before delete: {before_count}\")\n",
    "\n",
    "# with table.transaction() as tx:  # type: ignore[attr-defined]\n",
    "#     try:\n",
    "#         tx.delete(delete_filter=AlwaysTrue())  # type: ignore[attr-defined]\n",
    "#     except Exception as e:\n",
    "#         raise RuntimeError(\"Row-level delete failed.\") from e\n",
    "\n",
    "# after_count = table.scan().count()\n",
    "# print(f\"Rows after delete:  {after_count}\")\n",
    "# assert after_count == 0, \"Delete operation failed: table not empty\"\n",
    "# print(\"All rows deleted successfully via row-level delete.\")"
   ]
  },
  {
   "cell_type": "code",
   "execution_count": null,
   "id": "2880ebf5",
   "metadata": {},
   "outputs": [],
   "source": [
    "# get a record with a specific id\n",
    "record_id = \"ebs28816490e\"  # Replace with an actual record ID\n",
    "record = table.scan(\n",
    "    selected_fields=(\"namespace\", \"id\", \"content\"),\n",
    "    row_filter=f\"id = '{record_id}'\",\n",
    ").to_arrow()\n",
    "\n",
    "if record.num_rows == 0:\n",
    "    print(f\"No record found with id: {record_id}\")\n",
    "else:\n",
    "    print(f\"Record with id {record_id}:\")\n",
    "    try:\n",
    "        display(record.to_pandas())  # type: ignore[name-defined]\n",
    "    except Exception:\n",
    "        from pprint import pprint\n",
    "\n",
    "        pprint(record.to_pylist())\n"
   ]
  },
  {
   "cell_type": "code",
   "execution_count": null,
   "id": "6bc3572c",
   "metadata": {},
   "outputs": [],
   "source": [
    "# parse the XML content of the record and pretty print it\n",
    "xml_value = record[\"content\"].to_pylist()[0]\n",
    "\n",
    "import xml.etree.ElementTree as ET\n",
    "\n",
    "root = ET.fromstring(xml_value)\n",
    "\n",
    "ET.indent(root)\n",
    "ET.dump(root)"
   ]
  },
  {
   "cell_type": "code",
   "execution_count": null,
   "id": "93c244dc",
   "metadata": {},
   "outputs": [],
   "source": [
    "# Transform the record and print the transformed output\n",
    "\n",
    "%load_ext autoreload\n",
    "%autoreload 2\n",
    "\n",
    "import json\n",
    "from adapters.ebsco.steps.transformer import transform\n",
    "\n",
    "(transformed_record, _) = transform(record_id, xml_value)\n",
    "print(json.dumps(transformed_record[0].model_dump(), indent=2))"
   ]
  },
  {
   "cell_type": "code",
   "execution_count": null,
   "id": "e6ff651b",
   "metadata": {},
   "outputs": [],
   "source": [
    "transformed_record"
   ]
  },
  {
   "cell_type": "code",
   "execution_count": null,
   "id": "cda28127",
   "metadata": {},
   "outputs": [],
   "source": []
  }
 ],
 "metadata": {
  "kernelspec": {
   "display_name": "catalogue-graph",
   "language": "python",
   "name": "python3"
  },
  "language_info": {
   "codemirror_mode": {
    "name": "ipython",
    "version": 3
   },
   "file_extension": ".py",
   "mimetype": "text/x-python",
   "name": "python",
   "nbconvert_exporter": "python",
   "pygments_lexer": "ipython3",
   "version": "3.12.10"
  }
 },
 "nbformat": 4,
 "nbformat_minor": 5
}
