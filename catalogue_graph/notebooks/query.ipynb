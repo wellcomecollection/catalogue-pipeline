{
 "cells": [
  {
   "cell_type": "code",
   "execution_count": null,
   "id": "649dae1e",
   "metadata": {},
   "outputs": [
    {
     "name": "stdout",
     "output_type": "stream",
     "text": [
      "env: AWS_PROFILE=platform-developer\n",
      "✅ Setup complete - ready to query the catalogue graph\n",
      "✅ Setup complete - ready to query the catalogue graph\n"
     ]
    }
   ],
   "source": [
    "# Configure AWS profile for local development\n",
    "%env AWS_PROFILE=platform-developer\n",
    "\n",
    "# Imports and Neptune client initialization\n",
    "# All dependencies managed by uv and pyproject.toml\n",
    "import pprint\n",
    "from typing import Any\n",
    "\n",
    "import pandas as pd\n",
    "from queries.concept_queries import CONCEPT_QUERY\n",
    "from tabulate import tabulate\n",
    "\n",
    "# Import catalogue graph modules (should work if running in proper uv environment)\n",
    "from utils.aws import get_neptune_client\n",
    "\n",
    "# Initialize Neptune client for local use\n",
    "neptune_client = get_neptune_client(is_local=True)\n",
    "\n",
    "\n",
    "# Utility functions for querying and result handling\n",
    "def run_query(\n",
    "    query: str, parameters: dict[str, Any] = None, label: str = None\n",
    ") -> list[dict]:\n",
    "    \"\"\"Execute an openCypher query with optional parameters and timing.\"\"\"\n",
    "    if label:\n",
    "        results = neptune_client.time_open_cypher_query(query, parameters or {}, label)\n",
    "    else:\n",
    "        results = neptune_client.run_open_cypher_query(query, parameters)\n",
    "    return results\n",
    "\n",
    "\n",
    "def display_results(results: list[dict], limit: int = 10) -> None:\n",
    "    \"\"\"Display query results in a formatted table.\"\"\"\n",
    "    if not results:\n",
    "        print(\"No results to display\")\n",
    "        return\n",
    "\n",
    "    df = pd.DataFrame(results)\n",
    "    print(f\"Results: {len(results)} rows, {len(df.columns)} columns\")\n",
    "\n",
    "    display_df = df.head(limit)\n",
    "    print(tabulate(display_df, headers=\"keys\", tablefmt=\"grid\", showindex=False))\n",
    "\n",
    "    if len(results) > limit:\n",
    "        print(f\"... and {len(results) - limit} more rows\")\n",
    "\n",
    "\n",
    "def display_raw_results(results: list[dict], limit: int = 3) -> None:\n",
    "    \"\"\"Display query results using pretty print for exploration.\"\"\"\n",
    "    if not results:\n",
    "        print(\"No results to display\")\n",
    "        return\n",
    "\n",
    "    print(\n",
    "        f\"🔍 Raw results structure (showing {min(limit, len(results))} of {len(results)}):\"\n",
    "    )\n",
    "    for i, result in enumerate(results[:limit]):\n",
    "        print(f\"\\n--- Result {i + 1} ---\")\n",
    "        pprint.pprint(result, width=80, depth=2)\n",
    "\n",
    "\n",
    "def export_results_to_csv(results: list[dict], filename: str):\n",
    "    \"\"\"Export query results to a CSV file.\"\"\"\n",
    "    if results:\n",
    "        pd.DataFrame(results).to_csv(filename, index=False)\n",
    "        print(f\"✓ Results exported to {filename}\")"
   ]
  },
  {
   "cell_type": "markdown",
   "id": "377ffc32",
   "metadata": {},
   "source": [
    "# Catalogue Graph Query Notebook\n",
    "\n",
    "This notebook provides an interface for querying the Wellcome Collection catalogue graph using openCypher queries. It presumes you are running in the `uv` environment and are using VS Code with the appropriate Python kernel.\n",
    "\n",
    "## Prerequisites\n",
    "- Ensure you're running this notebook in the proper `uv` environment\n",
    "- Have the `platform-developer` AWS profile configured\n",
    "- Access to the Wellcome Collection VPN/network\n",
    "\n",
    "## Quick Start\n",
    "1. Make sure you're in the `catalogue_graph` directory\n",
    "2. Run `uv sync` to ensure all dependencies are installed\n",
    "3. Select the appropriate kernel `./.venv/bin/python` in VS Code\n",
    "4. Run the setup cell above to initialize the connection \n",
    "5. Use the pre-built query functions or execute custom queries below\n",
    "\n",
    "---"
   ]
  },
  {
   "cell_type": "markdown",
   "id": "25583da4",
   "metadata": {},
   "source": [
    "## Basic Graph Exploration\n",
    "\n",
    "Let's start with some basic queries to understand the structure of the catalogue graph."
   ]
  },
  {
   "cell_type": "code",
   "execution_count": 48,
   "id": "4d2c9c0e",
   "metadata": {},
   "outputs": [
    {
     "name": "stdout",
     "output_type": "stream",
     "text": [
      "Ran 'Source concepts by source' query in 3 seconds, retrieving 3 records.\n",
      "Results: 3 rows, 2 columns\n",
      "+-------------+---------+\n",
      "| source      |   count |\n",
      "+=============+=========+\n",
      "| lc-subjects |  422417 |\n",
      "+-------------+---------+\n",
      "| wikidata    |   99822 |\n",
      "+-------------+---------+\n",
      "| nlm-mesh    |   30554 |\n",
      "+-------------+---------+\n"
     ]
    }
   ],
   "source": [
    "# Explore SourceConcepts by source\n",
    "source_concepts_query = \"\"\"\n",
    "MATCH (sc:SourceConcept)\n",
    "RETURN sc.source as source, count(sc) as count\n",
    "ORDER BY count DESC\n",
    "\"\"\"\n",
    "\n",
    "results = run_query(source_concepts_query, label=\"Source concepts by source\")\n",
    "display_results(results)"
   ]
  },
  {
   "cell_type": "code",
   "execution_count": 50,
   "id": "36810278",
   "metadata": {},
   "outputs": [
    {
     "name": "stdout",
     "output_type": "stream",
     "text": [
      "Ran 'Relationship types in the graph' query in 48 seconds, retrieving 8 records.\n",
      "Results: 8 rows, 2 columns\n",
      "+---------------------+---------+\n",
      "| relationship_type   |   count |\n",
      "+=====================+=========+\n",
      "| HAS_CONCEPT         | 3699553 |\n",
      "+---------------------+---------+\n",
      "| SAME_AS             | 3444092 |\n",
      "+---------------------+---------+\n",
      "| HAS_PARENT          | 2179670 |\n",
      "+---------------------+---------+\n",
      "| NARROWER_THAN       |  626785 |\n",
      "+---------------------+---------+\n",
      "| HAS_FIELD_OF_WORK   |  427145 |\n",
      "+---------------------+---------+\n",
      "| HAS_SOURCE_CONCEPT  |  297868 |\n",
      "+---------------------+---------+\n",
      "| HAS_PATH_IDENTIFIER |  275112 |\n",
      "+---------------------+---------+\n",
      "| RELATED_TO          |  238187 |\n",
      "+---------------------+---------+\n"
     ]
    }
   ],
   "source": [
    "# A query to get all relationship types in the graph\n",
    "relationship_types_query = \"\"\"\n",
    "MATCH ()-[r]->()\n",
    "RETURN DISTINCT type(r) as relationship_type, count(r) as count\n",
    "ORDER BY count DESC\n",
    "\"\"\"\n",
    "results = run_query(relationship_types_query, label=\"Relationship types in the graph\")\n",
    "display_results(results)"
   ]
  },
  {
   "cell_type": "markdown",
   "id": "dc937c2b",
   "metadata": {},
   "source": [
    "## Concept Queries\n",
    "\n",
    "Query and explore concepts in the catalogue graph."
   ]
  },
  {
   "cell_type": "code",
   "execution_count": 49,
   "id": "ae29ed6d",
   "metadata": {},
   "outputs": [
    {
     "name": "stdout",
     "output_type": "stream",
     "text": [
      "Running pre-built concept query...\n",
      "Query parameters: {'start_offset': 0, 'limit': 3}\n",
      "\n",
      "    MATCH (concept:Concept)\n",
      "    WITH concept ORDER BY concept.id\n",
      "    SKIP $start_offset LIMIT $limit\n",
      "    OPTIONAL MATCH (concept)-[:HAS_SOURCE_CONCEPT]->(linked_source_concept)-[:SAME_AS*0..]->(source_concept)\n",
      "    OPTIONAL MATCH (source_concept)<-[:HAS_SOURCE_CONCEPT]-(same_as_concept)\n",
      "    OPTIONAL MATCH (work)-[has_concept:HAS_CONCEPT]-(concept)\n",
      "    RETURN \n",
      "        concept,\n",
      "        collect(DISTINCT linked_source_concept) AS linked_source_concepts,\n",
      "        collect(DISTINCT source_concept) AS source_concepts,\n",
      "        collect(DISTINCT same_as_concept.id) AS same_as_concept_ids,\n",
      "        collect(DISTINCT has_concept.referenced_type) AS concept_types        \n",
      "    \n",
      "Ran 'Sample concepts' query in 6 seconds, retrieving 3 records.\n",
      "Results: 3 rows, 5 columns\n",
      "+----------------------------------------------------------------------------------------------------------------------------------------------------------------------------------------------------------------------------+-------------------------------------------------------------------------------------------------------------------------------------------------------------------------------------------+-------------------------------------------------------------------------------------------------------------------------------------------------------------------------------------------+-----------------------+-----------------+\n",
      "| concept                                                                                                                                                                                                                    | linked_source_concepts                                                                                                                                                                    | source_concepts                                                                                                                                                                           | same_as_concept_ids   | concept_types   |\n",
      "+============================================================================================================================================================================================================================+===========================================================================================================================================================================================+===========================================================================================================================================================================================+=======================+=================+\n",
      "| {'~id': 'a2233f9d', '~entityType': 'node', '~labels': ['Concept'], '~properties': {'id': 'a2233f9d', 'label': 'Circle of State Librarians Conference 1979 : Kew, England)', 'source': 'label-derived', 'type': 'Meeting'}} | []                                                                                                                                                                                        | []                                                                                                                                                                                        | []                    | ['Meeting']     |\n",
      "+----------------------------------------------------------------------------------------------------------------------------------------------------------------------------------------------------------------------------+-------------------------------------------------------------------------------------------------------------------------------------------------------------------------------------------+-------------------------------------------------------------------------------------------------------------------------------------------------------------------------------------------+-----------------------+-----------------+\n",
      "| {'~id': 'a223f5a6', '~entityType': 'node', '~labels': ['Concept'], '~properties': {'id': 'a223f5a6', 'label': 'Nelson, Geoffrey B. (Geoffrey Brian)', 'source': 'lc-names', 'type': 'Person'}}                             | [{'~id': 'no2001062332', '~entityType': 'node', '~labels': ['SourceName'], '~properties': {'id': 'no2001062332', 'label': 'Nelson, Geoffrey B. (Geoffrey Brian)', 'source': 'lc-names'}}] | [{'~id': 'no2001062332', '~entityType': 'node', '~labels': ['SourceName'], '~properties': {'id': 'no2001062332', 'label': 'Nelson, Geoffrey B. (Geoffrey Brian)', 'source': 'lc-names'}}] | ['a223f5a6']          | ['Person']      |\n",
      "+----------------------------------------------------------------------------------------------------------------------------------------------------------------------------------------------------------------------------+-------------------------------------------------------------------------------------------------------------------------------------------------------------------------------------------+-------------------------------------------------------------------------------------------------------------------------------------------------------------------------------------------+-----------------------+-----------------+\n",
      "| {'~id': 'a2249bxm', '~entityType': 'node', '~labels': ['Concept'], '~properties': {'id': 'a2249bxm', 'label': 'Wolff, G.', 'source': 'label-derived', 'type': 'Person'}}                                                   | []                                                                                                                                                                                        | []                                                                                                                                                                                        | []                    | ['Person']      |\n",
      "+----------------------------------------------------------------------------------------------------------------------------------------------------------------------------------------------------------------------------+-------------------------------------------------------------------------------------------------------------------------------------------------------------------------------------------+-------------------------------------------------------------------------------------------------------------------------------------------------------------------------------------------+-----------------------+-----------------+\n"
     ]
    },
    {
     "data": {
      "text/plain": [
       "[{'concept': {'~id': 'a2233f9d',\n",
       "   '~entityType': 'node',\n",
       "   '~labels': ['Concept'],\n",
       "   '~properties': {'id': 'a2233f9d',\n",
       "    'label': 'Circle of State Librarians Conference 1979 : Kew, England)',\n",
       "    'source': 'label-derived',\n",
       "    'type': 'Meeting'}},\n",
       "  'linked_source_concepts': [],\n",
       "  'source_concepts': [],\n",
       "  'same_as_concept_ids': [],\n",
       "  'concept_types': ['Meeting']},\n",
       " {'concept': {'~id': 'a223f5a6',\n",
       "   '~entityType': 'node',\n",
       "   '~labels': ['Concept'],\n",
       "   '~properties': {'id': 'a223f5a6',\n",
       "    'label': 'Nelson, Geoffrey B. (Geoffrey Brian)',\n",
       "    'source': 'lc-names',\n",
       "    'type': 'Person'}},\n",
       "  'linked_source_concepts': [{'~id': 'no2001062332',\n",
       "    '~entityType': 'node',\n",
       "    '~labels': ['SourceName'],\n",
       "    '~properties': {'id': 'no2001062332',\n",
       "     'label': 'Nelson, Geoffrey B. (Geoffrey Brian)',\n",
       "     'source': 'lc-names'}}],\n",
       "  'source_concepts': [{'~id': 'no2001062332',\n",
       "    '~entityType': 'node',\n",
       "    '~labels': ['SourceName'],\n",
       "    '~properties': {'id': 'no2001062332',\n",
       "     'label': 'Nelson, Geoffrey B. (Geoffrey Brian)',\n",
       "     'source': 'lc-names'}}],\n",
       "  'same_as_concept_ids': ['a223f5a6'],\n",
       "  'concept_types': ['Person']},\n",
       " {'concept': {'~id': 'a2249bxm',\n",
       "   '~entityType': 'node',\n",
       "   '~labels': ['Concept'],\n",
       "   '~properties': {'id': 'a2249bxm',\n",
       "    'label': 'Wolff, G.',\n",
       "    'source': 'label-derived',\n",
       "    'type': 'Person'}},\n",
       "  'linked_source_concepts': [],\n",
       "  'source_concepts': [],\n",
       "  'same_as_concept_ids': [],\n",
       "  'concept_types': ['Person']}]"
      ]
     },
     "execution_count": 49,
     "metadata": {},
     "output_type": "execute_result"
    }
   ],
   "source": [
    "# Use the pre-built concept query to get a sample of concepts\n",
    "# This query gets concepts with their linked source concepts\n",
    "concept_sample_params = {\n",
    "    \"start_offset\": 0,\n",
    "    \"limit\": 3,  # Reduce to 3 for cleaner output with pretty print\n",
    "}\n",
    "\n",
    "print(\"Running pre-built concept query...\")\n",
    "print(f\"Query parameters: {concept_sample_params}\")\n",
    "print(CONCEPT_QUERY)\n",
    "\n",
    "results = run_query(CONCEPT_QUERY, concept_sample_params, \"Sample concepts\")\n",
    "\n",
    "display_results(results)\n",
    "\n",
    "results"
   ]
  },
  {
   "cell_type": "code",
   "execution_count": 44,
   "id": "860928b3",
   "metadata": {},
   "outputs": [
    {
     "name": "stdout",
     "output_type": "stream",
     "text": [
      "Ran 'Search for 'medicine'' query in 6 seconds, retrieving 10 records.\n",
      "Results: 10 rows, 2 columns\n",
      "+--------------+----------------------------------------------------------------------------------------------------+\n",
      "| concept_id   | label                                                                                              |\n",
      "+==============+====================================================================================================+\n",
      "| s2fgad3g     | ACM Conference on the History of Medical Informatics (1987 : National Library of Medicine)         |\n",
      "+--------------+----------------------------------------------------------------------------------------------------+\n",
      "| fsmfgzj2     | ATPM/Fogarty Symposium on Preventive and Community Medicine in Primary Care (1973 : Bethesda, Md.) |\n",
      "+--------------+----------------------------------------------------------------------------------------------------+\n",
      "| rt46hwa7     | Aboriginal Australians - Medicine                                                                  |\n",
      "+--------------+----------------------------------------------------------------------------------------------------+\n",
      "| msbus2vs     | Academic Medicine Group.                                                                           |\n",
      "+--------------+----------------------------------------------------------------------------------------------------+\n",
      "| az3hkgrx     | Academy of Medicine (Singapore)                                                                    |\n",
      "+--------------+----------------------------------------------------------------------------------------------------+\n",
      "| n98acycy     | Academy of Medicine (Toronto, Ont.)                                                                |\n",
      "+--------------+----------------------------------------------------------------------------------------------------+\n",
      "| ratj27xy     | Academy of Medicine in Ireland.                                                                    |\n",
      "+--------------+----------------------------------------------------------------------------------------------------+\n",
      "| qs2rss56     | Academy of Medicine of Brooklyn.                                                                   |\n",
      "+--------------+----------------------------------------------------------------------------------------------------+\n",
      "| sh4rshzf     | Academy of Medicine of Cincinnati                                                                  |\n",
      "+--------------+----------------------------------------------------------------------------------------------------+\n",
      "| ekptg7yt     | Academy of Medicine of Cincinnati.                                                                 |\n",
      "+--------------+----------------------------------------------------------------------------------------------------+\n"
     ]
    }
   ],
   "source": [
    "# Search for concepts by label (case-insensitive)\n",
    "def search_concepts(search_term: str, limit: int = 10):\n",
    "    \"\"\"Search for concepts containing the given term in their label.\"\"\"\n",
    "    search_query = \"\"\"\n",
    "    MATCH (c:Concept)\n",
    "    WHERE toLower(c.label) CONTAINS toLower($search_term)\n",
    "    RETURN c.id as concept_id, c.label as label\n",
    "    ORDER BY c.label\n",
    "    LIMIT $limit\n",
    "    \"\"\"\n",
    "\n",
    "    params = {\"search_term\": search_term, \"limit\": limit}\n",
    "    return run_query(search_query, params, f\"Search for '{search_term}'\")\n",
    "\n",
    "\n",
    "# Example: Search for concepts related to \"medicine\"\n",
    "search_term = \"medicine\"\n",
    "search_results = search_concepts(search_term)\n",
    "display_results(search_results)"
   ]
  },
  {
   "cell_type": "markdown",
   "id": "46870d3d",
   "metadata": {},
   "source": [
    "## Work Queries\n",
    "\n",
    "Query and explore works in the catalogue graph and their relationships to concepts."
   ]
  },
  {
   "cell_type": "code",
   "execution_count": 45,
   "id": "b5aad92a",
   "metadata": {},
   "outputs": [
    {
     "name": "stdout",
     "output_type": "stream",
     "text": [
      "Ran 'Works with concepts' query in 67 seconds, retrieving 10 records.\n",
      "Results: 10 rows, 4 columns\n",
      "+-----------+---------+-----------------+-------------------------------------------------------------------------------------------------------------------------------------------------------------------------------------------------------------------------------------------------------------------------------------------------------------------------------------------------------------------------------------------------------------------------------------------------------------------------------------------------------------------------------------------------------------------------------------------------------------------------------------------------------------------------------------------+\n",
      "| work_id   | title   |   concept_count | sample_concepts                                                                                                                                                                                                                                                                                                                                                                                                                                                                                                                                                                                                                                                                           |\n",
      "+===========+=========+=================+===========================================================================================================================================================================================================================================================================================================================================================================================================================================================================================================================================================================================================================================================================================+\n",
      "| vpw2ta9v  |         |             108 | [{'type': 'Genre', 'concept': {'~id': 'h8wz9hwz', '~entityType': 'node', '~labels': ['Concept'], '~properties': {'id': 'h8wz9hwz', 'label': 'Art brut', 'source': 'label-derived', 'type': 'Concept'}}}, {'type': 'Person', 'concept': {'~id': 'cj3dhnbv', '~entityType': 'node', '~labels': ['Concept'], '~properties': {'id': 'cj3dhnbv', 'label': 'Adamson, Edward.', 'source': 'lc-names', 'type': 'Person'}}}, {'type': 'Person', 'concept': {'~id': 'v6u3zsw3', '~entityType': 'node', '~labels': ['Concept'], '~properties': {'id': 'v6u3zsw3', 'label': 'Bishop, Mary, (Mary Cecil Hamilton), 1914-1990.', 'source': 'label-derived', 'type': 'Person'}}}]                        |\n",
      "+-----------+---------+-----------------+-------------------------------------------------------------------------------------------------------------------------------------------------------------------------------------------------------------------------------------------------------------------------------------------------------------------------------------------------------------------------------------------------------------------------------------------------------------------------------------------------------------------------------------------------------------------------------------------------------------------------------------------------------------------------------------------+\n",
      "| h522td77  |         |              95 | [{'type': 'Subject', 'concept': {'~id': 'mt7mndwe', '~entityType': 'node', '~labels': ['Concept'], '~properties': {'id': 'mt7mndwe', 'label': 'Great Britain. National Health Service', 'source': 'label-derived', 'type': 'Organisation'}}}, {'type': 'Subject', 'concept': {'~id': 're2p94c5', '~entityType': 'node', '~labels': ['Concept'], '~properties': {'id': 're2p94c5', 'label': 'Herpes Genitalis', 'source': 'nlm-mesh', 'type': 'Concept'}}}, {'type': 'Subject', 'concept': {'~id': 'rmbee6qm', '~entityType': 'node', '~labels': ['Concept'], '~properties': {'id': 'rmbee6qm', 'label': 'Contraception', 'source': 'label-derived', 'type': 'Concept'}}}]                 |\n",
      "+-----------+---------+-----------------+-------------------------------------------------------------------------------------------------------------------------------------------------------------------------------------------------------------------------------------------------------------------------------------------------------------------------------------------------------------------------------------------------------------------------------------------------------------------------------------------------------------------------------------------------------------------------------------------------------------------------------------------------------------------------------------------+\n",
      "| ghzw8qfa  |         |              88 | [{'type': 'Subject', 'concept': {'~id': 'gy42b8da', '~entityType': 'node', '~labels': ['Concept'], '~properties': {'id': 'gy42b8da', 'label': 'Advanced Healing Therapies', 'source': 'label-derived', 'type': 'Organisation'}}}, {'type': 'Subject', 'concept': {'~id': 'nq4gyvt3', '~entityType': 'node', '~labels': ['Concept'], '~properties': {'id': 'nq4gyvt3', 'label': 'Stanley Cox (Firm)', 'source': 'label-derived', 'type': 'Organisation'}}}, {'type': 'Subject', 'concept': {'~id': 'brwdkw9q', '~entityType': 'node', '~labels': ['Concept'], '~properties': {'id': 'brwdkw9q', 'label': 'PIFCO Ltd.', 'source': 'label-derived', 'type': 'Organisation'}}}]               |\n",
      "+-----------+---------+-----------------+-------------------------------------------------------------------------------------------------------------------------------------------------------------------------------------------------------------------------------------------------------------------------------------------------------------------------------------------------------------------------------------------------------------------------------------------------------------------------------------------------------------------------------------------------------------------------------------------------------------------------------------------------------------------------------------------+\n",
      "| c8w4ezau  |         |              83 | [{'type': 'Subject', 'concept': {'~id': 'qghry726', '~entityType': 'node', '~labels': ['Concept'], '~properties': {'id': 'qghry726', 'label': 'Occupational Diseases', 'source': 'label-derived', 'type': 'Concept'}}}, {'type': 'Subject', 'concept': {'~id': 'cfu2s4yx', '~entityType': 'node', '~labels': ['Concept'], '~properties': {'id': 'cfu2s4yx', 'label': 'Infant Mortality', 'source': 'label-derived', 'type': 'Concept'}}}, {'type': 'Subject', 'concept': {'~id': 'ruvtvqdq', '~entityType': 'node', '~labels': ['Concept'], '~properties': {'id': 'ruvtvqdq', 'label': 'Aortic Valve Stenosis', 'source': 'label-derived', 'type': 'Concept'}}}]                          |\n",
      "+-----------+---------+-----------------+-------------------------------------------------------------------------------------------------------------------------------------------------------------------------------------------------------------------------------------------------------------------------------------------------------------------------------------------------------------------------------------------------------------------------------------------------------------------------------------------------------------------------------------------------------------------------------------------------------------------------------------------------------------------------------------------+\n",
      "| smtbbyay  |         |              83 | [{'type': 'Subject', 'concept': {'~id': 'zzh6urd3', '~entityType': 'node', '~labels': ['Concept'], '~properties': {'id': 'zzh6urd3', 'label': 'Lectures and lecturing', 'source': 'label-derived', 'type': 'Concept'}}}, {'type': 'Subject', 'concept': {'~id': 'jwmsk5tw', '~entityType': 'node', '~labels': ['Concept'], '~properties': {'id': 'jwmsk5tw', 'label': 'Examinations', 'source': 'lc-subjects', 'type': 'Concept'}}}, {'type': 'Subject', 'concept': {'~id': 'rd4j8756', '~entityType': 'node', '~labels': ['Concept'], '~properties': {'id': 'rd4j8756', 'label': 'Schools, Medical', 'source': 'nlm-mesh', 'type': 'Concept'}}}]                                         |\n",
      "+-----------+---------+-----------------+-------------------------------------------------------------------------------------------------------------------------------------------------------------------------------------------------------------------------------------------------------------------------------------------------------------------------------------------------------------------------------------------------------------------------------------------------------------------------------------------------------------------------------------------------------------------------------------------------------------------------------------------------------------------------------------------+\n",
      "| mzcn529a  |         |              81 | [{'type': 'Subject', 'concept': {'~id': 'cntspsp6', '~entityType': 'node', '~labels': ['Concept'], '~properties': {'id': 'cntspsp6', 'label': 'Orphanages - Ireland - 1960-1970', 'source': 'lc-subjects', 'type': 'Subject'}}}, {'type': 'Subject', 'concept': {'~id': 'hzdtgxsb', '~entityType': 'node', '~labels': ['Concept'], '~properties': {'id': 'hzdtgxsb', 'label': 'Charity', 'source': 'label-derived', 'type': 'Concept'}}}, {'type': 'Subject', 'concept': {'~id': 'jezhtt7d', '~entityType': 'node', '~labels': ['Concept'], '~properties': {'id': 'jezhtt7d', 'label': 'Schools', 'source': 'label-derived', 'type': 'Concept'}}}]                                        |\n",
      "+-----------+---------+-----------------+-------------------------------------------------------------------------------------------------------------------------------------------------------------------------------------------------------------------------------------------------------------------------------------------------------------------------------------------------------------------------------------------------------------------------------------------------------------------------------------------------------------------------------------------------------------------------------------------------------------------------------------------------------------------------------------------+\n",
      "| buhmr6sk  |         |              80 | [{'type': 'Subject', 'concept': {'~id': 's793cu7d', '~entityType': 'node', '~labels': ['Concept'], '~properties': {'id': 's793cu7d', 'label': 'Occupational Health', 'source': 'label-derived', 'type': 'Concept'}}}, {'type': 'Subject', 'concept': {'~id': 'mt7mndwe', '~entityType': 'node', '~labels': ['Concept'], '~properties': {'id': 'mt7mndwe', 'label': 'Great Britain. National Health Service', 'source': 'label-derived', 'type': 'Organisation'}}}, {'type': 'Subject', 'concept': {'~id': 'cyw8dym3', '~entityType': 'node', '~labels': ['Concept'], '~properties': {'id': 'cyw8dym3', 'label': 'Antineoplastic Agents', 'source': 'label-derived', 'type': 'Concept'}}}] |\n",
      "+-----------+---------+-----------------+-------------------------------------------------------------------------------------------------------------------------------------------------------------------------------------------------------------------------------------------------------------------------------------------------------------------------------------------------------------------------------------------------------------------------------------------------------------------------------------------------------------------------------------------------------------------------------------------------------------------------------------------------------------------------------------------+\n",
      "| yurf45r6  |         |              77 | [{'type': 'Genre', 'concept': {'~id': 'tuvpy6ew', '~entityType': 'node', '~labels': ['Concept'], '~properties': {'id': 'tuvpy6ew', 'label': 'Posters', 'source': 'label-derived', 'type': 'Genre'}}}, {'type': 'Subject', 'concept': {'~id': 's793cu7d', '~entityType': 'node', '~labels': ['Concept'], '~properties': {'id': 's793cu7d', 'label': 'Occupational Health', 'source': 'label-derived', 'type': 'Concept'}}}, {'type': 'Subject', 'concept': {'~id': 'ettx5852', '~entityType': 'node', '~labels': ['Concept'], '~properties': {'id': 'ettx5852', 'label': \"London Gay Men's HIV Prevention Partnership\", 'source': 'label-derived', 'type': 'Organisation'}}}]              |\n",
      "+-----------+---------+-----------------+-------------------------------------------------------------------------------------------------------------------------------------------------------------------------------------------------------------------------------------------------------------------------------------------------------------------------------------------------------------------------------------------------------------------------------------------------------------------------------------------------------------------------------------------------------------------------------------------------------------------------------------------------------------------------------------------+\n",
      "| dsncswtc  |         |              76 | [{'type': 'Person', 'concept': {'~id': 'xdp47pnk', '~entityType': 'node', '~labels': ['Concept'], '~properties': {'id': 'xdp47pnk', 'label': 'Cornell, T.', 'source': 'label-derived', 'type': 'Person'}}}, {'type': 'Person', 'concept': {'~id': 'z4zxuw77', '~entityType': 'node', '~labels': ['Concept'], '~properties': {'id': 'z4zxuw77', 'label': 'Sutcliffe, W. Greenwood.', 'source': 'label-derived', 'type': 'Person'}}}, {'type': 'Person', 'concept': {'~id': 'ftuzeszp', '~entityType': 'node', '~labels': ['Concept'], '~properties': {'id': 'ftuzeszp', 'label': 'Last, Cecil E.', 'source': 'label-derived', 'type': 'Person'}}}]                                         |\n",
      "+-----------+---------+-----------------+-------------------------------------------------------------------------------------------------------------------------------------------------------------------------------------------------------------------------------------------------------------------------------------------------------------------------------------------------------------------------------------------------------------------------------------------------------------------------------------------------------------------------------------------------------------------------------------------------------------------------------------------------------------------------------------------+\n",
      "| sxyjpm8p  |         |              74 | [{'type': 'Person', 'concept': {'~id': 'xdp47pnk', '~entityType': 'node', '~labels': ['Concept'], '~properties': {'id': 'xdp47pnk', 'label': 'Cornell, T.', 'source': 'label-derived', 'type': 'Person'}}}, {'type': 'Person', 'concept': {'~id': 'z4zxuw77', '~entityType': 'node', '~labels': ['Concept'], '~properties': {'id': 'z4zxuw77', 'label': 'Sutcliffe, W. Greenwood.', 'source': 'label-derived', 'type': 'Person'}}}, {'type': 'Person', 'concept': {'~id': 'ftuzeszp', '~entityType': 'node', '~labels': ['Concept'], '~properties': {'id': 'ftuzeszp', 'label': 'Last, Cecil E.', 'source': 'label-derived', 'type': 'Person'}}}]                                         |\n",
      "+-----------+---------+-----------------+-------------------------------------------------------------------------------------------------------------------------------------------------------------------------------------------------------------------------------------------------------------------------------------------------------------------------------------------------------------------------------------------------------------------------------------------------------------------------------------------------------------------------------------------------------------------------------------------------------------------------------------------------------------------------------------------+\n"
     ]
    }
   ],
   "source": [
    "# Get sample works with their associated concepts\n",
    "works_query = \"\"\"\n",
    "MATCH (w:Work)-[hc:HAS_CONCEPT]->(c:Concept)\n",
    "WITH w, collect({concept: c, type: hc.referenced_type}) as concepts\n",
    "RETURN w.id as work_id, \n",
    "       w.title as title,\n",
    "       size(concepts) as concept_count,\n",
    "       concepts[0..3] as sample_concepts\n",
    "ORDER BY concept_count DESC\n",
    "LIMIT 10\n",
    "\"\"\"\n",
    "\n",
    "works_results = run_query(works_query, label=\"Works with concepts\")\n",
    "display_results(works_results)"
   ]
  },
  {
   "cell_type": "markdown",
   "id": "b4b01aff",
   "metadata": {},
   "source": [
    "## Custom Queries\n",
    "\n",
    "Use this section to run your own openCypher queries."
   ]
  },
  {
   "cell_type": "code",
   "execution_count": 46,
   "id": "266e9b8a",
   "metadata": {},
   "outputs": [
    {
     "name": "stdout",
     "output_type": "stream",
     "text": [
      "Ran 'Custom query' query in 34 seconds, retrieving 1 records.\n",
      "Results: 1 rows, 1 columns\n",
      "+---------------+\n",
      "|   total_nodes |\n",
      "+===============+\n",
      "|   1.61268e+07 |\n",
      "+---------------+\n"
     ]
    }
   ],
   "source": [
    "# Template for custom queries\n",
    "# Replace this with your own openCypher query\n",
    "\n",
    "custom_query = \"\"\"\n",
    "MATCH (n)\n",
    "RETURN count(n) as total_nodes\n",
    "\"\"\"\n",
    "\n",
    "# Optional parameters for your query\n",
    "custom_params = {}\n",
    "\n",
    "# Execute the query\n",
    "custom_results = run_query(custom_query, custom_params, \"Custom query\")\n",
    "display_results(custom_results)"
   ]
  }
 ],
 "metadata": {
  "kernelspec": {
   "display_name": ".venv",
   "language": "python",
   "name": "python3"
  },
  "language_info": {
   "codemirror_mode": {
    "name": "ipython",
    "version": 3
   },
   "file_extension": ".py",
   "mimetype": "text/x-python",
   "name": "python",
   "nbconvert_exporter": "python",
   "pygments_lexer": "ipython3",
   "version": "3.13.5"
  }
 },
 "nbformat": 4,
 "nbformat_minor": 5
}
