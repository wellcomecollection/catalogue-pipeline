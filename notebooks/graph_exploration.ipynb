{
 "cells": [
  {
   "cell_type": "code",
   "execution_count": null,
   "id": "3559b90d",
   "metadata": {
    "tags": []
   },
   "outputs": [],
   "source": [
    "%env AWS_PROFILE=platform-developer"
   ]
  },
  {
   "cell_type": "code",
   "execution_count": null,
   "id": "5cdd025f",
   "metadata": {
    "tags": []
   },
   "outputs": [],
   "source": [
    "%%graph_notebook_config\n",
    "{\n",
    "    \"host\": <value stored in AWS Secrets Manager under 'NeptuneTest/InstanceEndpoint' in the platform account>,\n",
    "    \"neptune_service\": \"neptune-db\",\n",
    "    \"port\": 8182,\n",
    "    \"ssl\": true,\n",
    "    \"proxy_port\": 443,\n",
    "    \"proxy_host\": \"catalogue-graph.wellcomecollection.org\",\n",
    "    \"auth_mode\": \"IAM\",\n",
    "    \"aws_region\": \"eu-west-1\",\n",
    "    \"load_from_s3_arn\": \"\"\n",
    "}  "
   ]
  },
  {
   "cell_type": "code",
   "execution_count": null,
   "id": "c0b6ae09",
   "metadata": {
    "tags": []
   },
   "outputs": [],
   "source": [
    "%status"
   ]
  },
  {
   "cell_type": "markdown",
   "id": "5a008888-9f98-41c0-9185-858c80e2464a",
   "metadata": {},
   "source": [
    "## Sample openCypher queries"
   ]
  },
  {
   "cell_type": "markdown",
   "id": "363bcdc3-062d-4ee8-be27-893c72ef701c",
   "metadata": {},
   "source": [
    "Count the number of all `SourceConcept` nodes"
   ]
  },
  {
   "cell_type": "code",
   "execution_count": null,
   "id": "009b8a46-4fd0-4bfd-9eb3-77dac689bc2d",
   "metadata": {
    "tags": []
   },
   "outputs": [],
   "source": [
    "%%oc\n",
    "MATCH (c:SourceConcept)\n",
    "RETURN count(c)"
   ]
  },
  {
   "cell_type": "markdown",
   "id": "47f1610a-2219-4554-9c25-11f725a53dec",
   "metadata": {},
   "source": [
    "Count the number of `SourceConcept` nodes grouped by their source (LCSH, MeSH, Wikidata)"
   ]
  },
  {
   "cell_type": "code",
   "execution_count": null,
   "id": "5a2aa8da-ba69-4af7-bd42-60f8624b61fd",
   "metadata": {
    "tags": []
   },
   "outputs": [],
   "source": [
    "%%oc\n",
    "MATCH (c:SourceConcept)\n",
    "RETURN count(c), c.source"
   ]
  },
  {
   "cell_type": "markdown",
   "id": "925cc5aa-31ac-45f5-bfcd-c43a9e2f0c52",
   "metadata": {},
   "source": [
    "We can do the same for `SourceLocation` and `SourceName` nodes"
   ]
  },
  {
   "cell_type": "code",
   "execution_count": null,
   "id": "ed03d76b-a7e2-4272-9eee-10e439869eb4",
   "metadata": {
    "tags": []
   },
   "outputs": [],
   "source": [
    "%%oc\n",
    "MATCH (l:SourceLocation)\n",
    "RETURN count(l), l.source"
   ]
  },
  {
   "cell_type": "code",
   "execution_count": null,
   "id": "1159cda1-ec08-4d7c-a76a-5ef49db3453d",
   "metadata": {
    "tags": []
   },
   "outputs": [],
   "source": [
    "%%oc\n",
    "MATCH (n:SourceName)\n",
    "RETURN count(n), n.source"
   ]
  },
  {
   "cell_type": "markdown",
   "id": "da0a41e3-ba77-44e3-91a0-9dabf0ec8a6f",
   "metadata": {},
   "source": [
    "Using openCypher queries, we can easily traverse the edges in the graph. For example, we can use this query to look up the labels of `SourceConcept` parents:"
   ]
  },
  {
   "cell_type": "code",
   "execution_count": null,
   "id": "74bdf7dd-be15-4f5f-a267-3c5321a808a8",
   "metadata": {
    "tags": []
   },
   "outputs": [],
   "source": [
    "%%oc\n",
    "MATCH (c:SourceConcept)-[:HAS_PARENT]->(p)\n",
    "WHERE c.source='nlm-mesh'\n",
    "RETURN c.label, p.label\n",
    "LIMIT 10"
   ]
  },
  {
   "cell_type": "markdown",
   "id": "d9014952-3930-4d69-88d2-2d1b56f42d78",
   "metadata": {},
   "source": [
    "We can also traverse multiple edges using the `*` operator. For example, the query below retrieves grandparent labels of `SourceConcept` nodes (i.e. `2` levels of `HAS_PARENT` edges)"
   ]
  },
  {
   "cell_type": "code",
   "execution_count": null,
   "id": "745fab86-375b-4462-8f1d-80b3380ee830",
   "metadata": {},
   "outputs": [],
   "source": [
    "%%oc\n",
    "MATCH (c:SourceConcept)-[:HAS_PARENT*2]->(p)\n",
    "WHERE c.source='nlm-mesh'\n",
    "RETURN c.label, p.label\n",
    "LIMIT 10"
   ]
  },
  {
   "cell_type": "markdown",
   "id": "84c96a06-2b1c-4741-9a2c-2fdde7a15a48",
   "metadata": {},
   "source": [
    "We can count the number of links between sources via `SAME_AS` edges. This reveals a high level of Wikidata coverage for both LoC and MeSH `SourceConcepts`"
   ]
  },
  {
   "cell_type": "code",
   "execution_count": null,
   "id": "5164734a-4673-47fb-8d4a-1eaa52f423b2",
   "metadata": {
    "tags": []
   },
   "outputs": [],
   "source": [
    "%%oc\n",
    "MATCH (sc1:SourceConcept)-[:SAME_AS]->(sc2:SourceConcept)\n",
    "RETURN count(sc1), sc1.source"
   ]
  },
  {
   "cell_type": "markdown",
   "id": "bc5fa969-19af-46ad-80f1-fe1dd6bd1216",
   "metadata": {},
   "source": [
    "It is also possible to view an interactive visualisation of query results when returning everyting (`*`), which can be accessed via the `Graph` tab. This can be customised with visualization hints using `-d`, `-de`, `-l` and `-g` after the `%%oc` magic command. "
   ]
  },
  {
   "cell_type": "code",
   "execution_count": null,
   "id": "4bd63ec2-3942-438f-a91e-2f1aab581013",
   "metadata": {
    "tags": []
   },
   "outputs": [],
   "source": [
    "%%oc -d label -l 20\n",
    "MATCH(c:SourceConcept)-[r:NARROWER_THAN*]->(p)\n",
    "WHERE c.id = 'sh00002633'\n",
    "RETURN *\n",
    "LIMIT 20"
   ]
  },
  {
   "cell_type": "code",
   "execution_count": null,
   "id": "9c878c57-7571-49a9-909b-4ca50fbce349",
   "metadata": {
    "tags": []
   },
   "outputs": [],
   "source": [
    "%%oc -d label -l 20\n",
    "MATCH (m:SourceConcept)-[p:HAS_PARENT*]->(c:SourceConcept)\n",
    "WHERE m.id = 'D012499'\n",
    "RETURN *"
   ]
  },
  {
   "cell_type": "code",
   "execution_count": null,
   "id": "80b5ac50-2337-4615-bd58-f42fddb616ea",
   "metadata": {
    "tags": []
   },
   "outputs": [],
   "source": [
    "%%oc -d label -l 20\n",
    "MATCH (m:SourceConcept)<-[p:HAS_PARENT*]-(c:SourceConcept)\n",
    "WHERE m.id = 'D012499'\n",
    "RETURN *"
   ]
  },
  {
   "cell_type": "code",
   "execution_count": null,
   "id": "0b3b2582-06f0-4989-93ee-7987f1b19047",
   "metadata": {
    "tags": []
   },
   "outputs": [],
   "source": [
    "%%oc -d label -l 20 -g source\n",
    "MATCH (sc1:SourceConcept)-[r:SAME_AS*]->(sc2:SourceConcept)\n",
    "WHERE sc1.id = 'D012499'\n",
    "RETURN *"
   ]
  },
  {
   "cell_type": "code",
   "execution_count": null,
   "id": "20a14a71-4870-4397-97d9-8e6efad98d71",
   "metadata": {
    "tags": []
   },
   "outputs": [],
   "source": [
    "%%oc -d label -l 25 -g source\n",
    "MATCH (sc1:SourceConcept)-[r:RELATED_TO*..2]->(sc2:SourceConcept)\n",
    "WHERE sc1.id = 'sh85117296'\n",
    "RETURN *"
   ]
  },
  {
   "cell_type": "code",
   "execution_count": null,
   "id": "3266937f-4ca6-4d46-a9b7-3d0496a78b8d",
   "metadata": {
    "tags": []
   },
   "outputs": [],
   "source": [
    "%%oc -d label -l 25 -g source\n",
    "MATCH (sc1:SourceConcept)-[r:NARROWER_THAN*..2]->(sc2:SourceConcept)\n",
    "WHERE sc1.id = 'sh85117296'\n",
    "RETURN *"
   ]
  },
  {
   "cell_type": "code",
   "execution_count": null,
   "id": "8eab1235-c42d-44f0-bebf-376add4637b8",
   "metadata": {
    "tags": []
   },
   "outputs": [],
   "source": [
    "%%oc -d label -l 25 -g source\n",
    "MATCH (sc1:SourceConcept)<-[r:NARROWER_THAN*..2]-(sc2:SourceConcept)\n",
    "WHERE sc1.id = 'sh85117296'\n",
    "RETURN *"
   ]
  },
  {
   "cell_type": "code",
   "execution_count": null,
   "id": "f8a58fe4-556d-4b8e-bb4b-da61bd5f531b",
   "metadata": {
    "tags": []
   },
   "outputs": [],
   "source": [
    "%%oc -d label -l 20 -g source\n",
    "MATCH (sc1:SourceConcept)-[r:SAME_AS]->(sc2:SourceConcept)-[p:HAS_PARENT]->(sc3:SourceConcept)\n",
    "RETURN *\n",
    "LIMIT 10"
   ]
  },
  {
   "cell_type": "code",
   "execution_count": null,
   "id": "807f813b-6469-4ad8-85df-ed09abed2f0a",
   "metadata": {
    "tags": []
   },
   "outputs": [],
   "source": [
    "%%oc -d label -l 20\n",
    "MATCH (sn1:SourceName)-[r:SAME_AS]->(sn2:SourceName)\n",
    "WHERE sn1.id='n84804337'\n",
    "RETURN *"
   ]
  },
  {
   "cell_type": "code",
   "execution_count": null,
   "id": "196c43b7-a9e1-441b-bbde-dc284ea069bc",
   "metadata": {
    "tags": []
   },
   "outputs": [],
   "source": [
    "%%oc -d label -l 20\n",
    "MATCH (sn1:SourceName)-[r:SAME_AS]->(sn2:SourceName)\n",
    "WHERE sn1.id='Q542019'\n",
    "RETURN *"
   ]
  },
  {
   "cell_type": "code",
   "execution_count": null,
   "id": "ab3103fd-9b7f-4fb6-80a6-efbbe56693f1",
   "metadata": {},
   "outputs": [],
   "source": []
  }
 ],
 "metadata": {
  "kernelspec": {
   "display_name": "catgraph-exploration",
   "language": "python",
   "name": "python3"
  },
  "language_info": {
   "codemirror_mode": {
    "name": "ipython",
    "version": 3
   },
   "file_extension": ".py",
   "mimetype": "text/x-python",
   "name": "python",
   "nbconvert_exporter": "python",
   "pygments_lexer": "ipython3",
   "version": "3.11.0"
  }
 },
 "nbformat": 4,
 "nbformat_minor": 5
}
