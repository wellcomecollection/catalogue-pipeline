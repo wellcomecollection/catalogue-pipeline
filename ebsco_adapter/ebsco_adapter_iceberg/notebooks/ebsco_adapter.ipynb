{
 "cells": [
  {
   "cell_type": "code",
   "execution_count": 22,
   "id": "8181fe9b",
   "metadata": {},
   "outputs": [
    {
     "name": "stdout",
     "output_type": "stream",
     "text": [
      "env: AWS_PROFILE=platform-developer\n",
      "Using wellcomecollection_catalogue.ebsco_adapter_table in wellcomecollection_catalogue catalog\n",
      "Loaded Iceberg table: wellcomecollection_catalogue.ebsco_adapter_table\n"
     ]
    }
   ],
   "source": [
    "# Configure AWS profile for local development\n",
    "%env AWS_PROFILE=platform-developer\n",
    "\n",
    "# Example: Fetch the first 10 records from the S3 Tables Iceberg REST API backed table\n",
    "#\n",
    "# Prerequisites:\n",
    "#   - AWS credentials with permission to call S3 Tables (Iceberg REST API) + read underlying S3 data are available\n",
    "#   - (Optional) Override defaults with env vars: AWS_REGION, AWS_ACCOUNT_ID, S3_TABLES_BUCKET,\n",
    "#       GLUE_TABLE_NAME, GLUE_NAMESPACE\n",
    "#\n",
    "# This reuses the existing helper in `table_config.get_rest_api_table`.\n",
    "# If you just want to experiment locally without AWS, see Cell 2 (you can switch it to use get_local_table).\n",
    "\n",
    "from config import (\n",
    "    AWS_ACCOUNT_ID,\n",
    "    AWS_REGION,\n",
    "    REST_API_NAMESPACE,\n",
    "    REST_API_TABLE_NAME,\n",
    "    S3_TABLES_BUCKET,\n",
    ")\n",
    "from table_config import get_rest_api_table\n",
    "\n",
    "# Load the Iceberg table via the S3 Tables Iceberg REST API\n",
    "table = get_rest_api_table(\n",
    "    s3_tables_bucket=S3_TABLES_BUCKET,\n",
    "    table_name=REST_API_TABLE_NAME,\n",
    "    namespace=REST_API_NAMESPACE,\n",
    "    region=AWS_REGION,\n",
    "    account_id=AWS_ACCOUNT_ID,\n",
    ")\n",
    "print(f\"Loaded Iceberg table: {REST_API_NAMESPACE}.{REST_API_TABLE_NAME}\")"
   ]
  },
  {
   "cell_type": "code",
   "execution_count": 23,
   "id": "36aaba20",
   "metadata": {},
   "outputs": [
    {
     "name": "stdout",
     "output_type": "stream",
     "text": [
      "Fetched 10 rows\n"
     ]
    },
    {
     "data": {
      "application/vnd.microsoft.datawrangler.viewer.v0+json": {
       "columns": [
        {
         "name": "index",
         "rawType": "int64",
         "type": "integer"
        },
        {
         "name": "namespace",
         "rawType": "object",
         "type": "string"
        },
        {
         "name": "id",
         "rawType": "object",
         "type": "string"
        },
        {
         "name": "content",
         "rawType": "object",
         "type": "unknown"
        }
       ],
       "ref": "41b160f9-5edb-4ee2-a65b-d4929395f88f",
       "rows": [
        [
         "0",
         "ebsco",
         "ebs977679e",
         "<record xmlns=\"http://www.loc.gov/MARC21/slim\"><leader>00000cam a22000003a 4500</leader><controlfield tag=\"001\">ebs977679e</controlfield><controlfield tag=\"003\">EBZ</controlfield><controlfield tag=\"006\">m     o  d  ||||||</controlfield><controlfield tag=\"007\">cr|unu||||||||</controlfield><controlfield tag=\"008\">980619s1999    caua    ob   s001 0 eng  </controlfield><datafield tag=\"020\" ind1=\" \" ind2=\" \"><subfield code=\"z\">9780520214255</subfield></datafield><datafield tag=\"020\" ind1=\" \" ind2=\" \"><subfield code=\"z\">9780520239074</subfield></datafield><datafield tag=\"020\" ind1=\" \" ind2=\" \"><subfield code=\"a\">9780520937314 (online)</subfield></datafield><datafield tag=\"035\" ind1=\" \" ind2=\" \"><subfield code=\"a\">(EBZ)ebs977679e</subfield></datafield><datafield tag=\"040\" ind1=\" \" ind2=\" \"><subfield code=\"a\">DLC</subfield><subfield code=\"c\">DLC</subfield><subfield code=\"d\">EBZ</subfield></datafield><datafield tag=\"042\" ind1=\" \" ind2=\" \"><subfield code=\"a\">msc</subfield></datafield><datafield tag=\"050\" ind1=\"0\" ind2=\"0\"><subfield code=\"a\">HQ800.2</subfield><subfield code=\"b\">.H45 1999</subfield></datafield><datafield tag=\"100\" ind1=\"1\" ind2=\" \"><subfield code=\"a\">Heineman, Elizabeth D.,</subfield><subfield code=\"d\">1962-</subfield></datafield><datafield tag=\"240\" ind1=\"1\" ind2=\"0\"><subfield code=\"a\">What difference does a husband make? (Online)</subfield></datafield><datafield tag=\"245\" ind1=\"1\" ind2=\"0\"><subfield code=\"a\">What difference does a husband make?</subfield><subfield code=\"h\">[electronic resource] :</subfield><subfield code=\"b\">women and marital status in Nazi and postwar Germany /</subfield><subfield code=\"c\">Elizabeth D. Heineman.</subfield></datafield><datafield tag=\"246\" ind1=\"2\" ind2=\" \"><subfield code=\"a\">What Difference Does A Husband Make?: Women And Marital Status In Nazi And Postwar Germany (Studies On The History Of Society And Culture ; 33)</subfield></datafield><datafield tag=\"260\" ind1=\" \" ind2=\" \"><subfield code=\"a\">Berkeley :</subfield><subfield code=\"b\">University of California Press,</subfield><subfield code=\"c\">c1999.</subfield></datafield><datafield tag=\"504\" ind1=\" \" ind2=\" \"><subfield code=\"a\">Includes bibliographical references (p. 323-364) and index.</subfield></datafield><datafield tag=\"650\" ind1=\" \" ind2=\"0\"><subfield code=\"a\">Single women</subfield><subfield code=\"z\">Germany</subfield><subfield code=\"x\">Social conditions.</subfield></datafield><datafield tag=\"650\" ind1=\" \" ind2=\"0\"><subfield code=\"a\">Marital status</subfield><subfield code=\"z\">Germany</subfield><subfield code=\"x\">History.</subfield></datafield><datafield tag=\"650\" ind1=\" \" ind2=\"0\"><subfield code=\"a\">Marital status</subfield><subfield code=\"z\">Germany</subfield><subfield code=\"x\">Psychological aspects</subfield><subfield code=\"x\">History.</subfield></datafield><datafield tag=\"773\" ind1=\"0\" ind2=\" \"><subfield code=\"t\">ACLS Humanities Ebooks</subfield><subfield code=\"d\">American Council of Learned Societies</subfield></datafield><datafield tag=\"776\" ind1=\"1\" ind2=\" \"><subfield code=\"t\">What difference does a husband make?</subfield><subfield code=\"w\">(DLC)98028003</subfield></datafield><datafield tag=\"856\" ind1=\"4\" ind2=\"0\"><subfield code=\"3\">Full text available: 1999.</subfield><subfield code=\"z\">Available in ACLS Humanities Ebooks.</subfield><subfield code=\"u\">https://hdl.handle.net/2027/heb04362.0001.001</subfield></datafield></record>"
        ],
        [
         "1",
         "ebsco",
         "ebs589913e",
         null
        ],
        [
         "2",
         "ebsco",
         "ebs984463e",
         null
        ],
        [
         "3",
         "ebsco",
         "ebs28843e",
         "<record xmlns=\"http://www.loc.gov/MARC21/slim\"><leader>00000cas a22000003  4500</leader><controlfield tag=\"001\">ebs28843e</controlfield><controlfield tag=\"003\">EBZ</controlfield><controlfield tag=\"006\">m     o  d  ||||||</controlfield><controlfield tag=\"007\">cr|unu||||||||</controlfield><controlfield tag=\"008\">780407c19789999ne mr p o     0   a0eng  </controlfield><datafield tag=\"022\" ind1=\" \" ind2=\" \"><subfield code=\"a\">1872-6852</subfield><subfield code=\"y\">0378-4290</subfield></datafield><datafield tag=\"035\" ind1=\" \" ind2=\" \"><subfield code=\"a\">(OCoLC)3788311</subfield></datafield><datafield tag=\"035\" ind1=\" \" ind2=\" \"><subfield code=\"a\">(EBZ)ebs28843e</subfield></datafield><datafield tag=\"040\" ind1=\" \" ind2=\" \"><subfield code=\"a\">AGL</subfield><subfield code=\"b\">eng</subfield><subfield code=\"c\">AGL</subfield><subfield code=\"d\">EBZ</subfield></datafield><datafield tag=\"042\" ind1=\" \" ind2=\" \"><subfield code=\"a\">nsdp</subfield><subfield code=\"a\">pcc</subfield></datafield><datafield tag=\"050\" ind1=\" \" ind2=\"4\"><subfield code=\"a\">SB183</subfield><subfield code=\"b\">.F453</subfield></datafield><datafield tag=\"070\" ind1=\" \" ind2=\" \"><subfield code=\"a\">SB183.F5</subfield></datafield><datafield tag=\"130\" ind1=\"0\" ind2=\" \"><subfield code=\"a\">Field crops research (Online)</subfield></datafield><datafield tag=\"245\" ind1=\"0\" ind2=\"0\"><subfield code=\"a\">Field crops research</subfield><subfield code=\"h\">[electronic resource].</subfield></datafield><datafield tag=\"260\" ind1=\" \" ind2=\" \"><subfield code=\"a\">Amsterdam,</subfield><subfield code=\"b\">Elsevier Scientific Pub. Co.</subfield></datafield><datafield tag=\"310\" ind1=\" \" ind2=\" \"><subfield code=\"a\">Monthly,</subfield><subfield code=\"b\">&lt;Oct. 1993-&gt;</subfield></datafield><datafield tag=\"362\" ind1=\"0\" ind2=\" \"><subfield code=\"a\">v. 1- Feb. 1978-</subfield></datafield><datafield tag=\"650\" ind1=\" \" ind2=\"0\"><subfield code=\"a\">Field crops</subfield><subfield code=\"v\">Periodicals.</subfield></datafield><datafield tag=\"650\" ind1=\" \" ind2=\"0\"><subfield code=\"a\">Agriculture</subfield><subfield code=\"x\">Research</subfield><subfield code=\"v\">Periodicals.</subfield></datafield><datafield tag=\"650\" ind1=\" \" ind2=\"6\"><subfield code=\"a\">Cultures de plein champ</subfield><subfield code=\"v\">Périodiques.</subfield></datafield><datafield tag=\"650\" ind1=\" \" ind2=\"6\"><subfield code=\"a\">Agriculture</subfield><subfield code=\"x\">Recherche</subfield><subfield code=\"v\">Périodiques.</subfield></datafield><datafield tag=\"650\" ind1=\" \" ind2=\"7\"><subfield code=\"a\">Agriculture</subfield><subfield code=\"x\">Research.</subfield><subfield code=\"2\">fast</subfield><subfield code=\"0\">(OCoLC)fst00801593</subfield></datafield><datafield tag=\"650\" ind1=\" \" ind2=\"7\"><subfield code=\"a\">Field crops.</subfield><subfield code=\"2\">fast</subfield><subfield code=\"0\">(OCoLC)fst00923817</subfield></datafield><datafield tag=\"650\" ind1=\" \" ind2=\"7\"><subfield code=\"a\">Pflanzenphysiologie</subfield><subfield code=\"2\">gnd</subfield></datafield><datafield tag=\"650\" ind1=\" \" ind2=\"7\"><subfield code=\"a\">Zeitschrift</subfield><subfield code=\"2\">gnd</subfield></datafield><datafield tag=\"650\" ind1=\" \" ind2=\"7\"><subfield code=\"a\">Online-Ressource</subfield><subfield code=\"2\">gnd</subfield></datafield><datafield tag=\"650\" ind1=\" \" ind2=\"7\"><subfield code=\"a\">Pflanzenzüchtung</subfield><subfield code=\"2\">gnd</subfield></datafield><datafield tag=\"650\" ind1=\" \" ind2=\"7\"><subfield code=\"a\">Pflanzenbau</subfield><subfield code=\"2\">gnd</subfield></datafield><datafield tag=\"655\" ind1=\" \" ind2=\"0\"><subfield code=\"a\">Electronic journals.</subfield></datafield><datafield tag=\"655\" ind1=\" \" ind2=\"7\"><subfield code=\"a\">Periodicals.</subfield><subfield code=\"2\">fast</subfield><subfield code=\"0\">(OCoLC)fst01411641</subfield></datafield><datafield tag=\"773\" ind1=\"0\" ind2=\" \"><subfield code=\"t\">ScienceDirect Subject Collections - Agricultural and Biological Sciences</subfield><subfield code=\"d\">Elsevier Science</subfield></datafield><datafield tag=\"776\" ind1=\"0\" ind2=\"8\"><subfield code=\"i\">Online version:</subfield><subfield code=\"t\">Field crops research (Online)</subfield><subfield code=\"x\">1872-6852</subfield><subfield code=\"w\">(DLC)  2003233351</subfield><subfield code=\"w\">(OCoLC)38873178</subfield></datafield><datafield tag=\"776\" ind1=\"0\" ind2=\"8\"><subfield code=\"i\">Online version:</subfield><subfield code=\"t\">Field crops research</subfield><subfield code=\"w\">(OCoLC)665222409</subfield></datafield><datafield tag=\"776\" ind1=\"1\" ind2=\" \"><subfield code=\"t\">Field crops research</subfield><subfield code=\"x\">1872-6852</subfield><subfield code=\"w\">(OCoLC)3788311</subfield><subfield code=\"w\">(DLC)sn 82020074</subfield></datafield><datafield tag=\"856\" ind1=\"4\" ind2=\"0\"><subfield code=\"3\">Full text available: 1995 to present.</subfield><subfield code=\"z\">Available in ScienceDirect Subject Collections - Agricultural and Biological Sciences.</subfield><subfield code=\"u\">https://www.sciencedirect.com/science/journal/03784290</subfield></datafield></record>"
        ],
        [
         "4",
         "ebsco",
         "ebs2887553e",
         "<record xmlns=\"http://www.loc.gov/MARC21/slim\"><leader>00000cam a22000003i 4500</leader><controlfield tag=\"001\">ebs2887553e</controlfield><controlfield tag=\"003\">EBZ</controlfield><controlfield tag=\"006\">m     o  d  ||||||</controlfield><controlfield tag=\"007\">cr|unu||||||||</controlfield><controlfield tag=\"008\">130816t20132013ne      ob    001 0 eng  </controlfield><datafield tag=\"020\" ind1=\" \" ind2=\" \"><subfield code=\"z\">9789053568576</subfield></datafield><datafield tag=\"020\" ind1=\" \" ind2=\" \"><subfield code=\"z\">9789089645630</subfield></datafield><datafield tag=\"020\" ind1=\" \" ind2=\" \"><subfield code=\"a\">9789048519675 (online)</subfield></datafield><datafield tag=\"035\" ind1=\" \" ind2=\" \"><subfield code=\"a\">(CaONFCNI)cou25433495</subfield></datafield><datafield tag=\"035\" ind1=\" \" ind2=\" \"><subfield code=\"a\">(EBZ)ebs2887553e</subfield></datafield><datafield tag=\"040\" ind1=\" \" ind2=\" \"><subfield code=\"a\">DLC</subfield><subfield code=\"b\">eng</subfield><subfield code=\"c\">DLC</subfield><subfield code=\"e\">rda</subfield><subfield code=\"d\">EBZ</subfield></datafield><datafield tag=\"042\" ind1=\" \" ind2=\" \"><subfield code=\"a\">msc</subfield></datafield><datafield tag=\"050\" ind1=\"0\" ind2=\"0\"><subfield code=\"a\">DR1319</subfield><subfield code=\"b\">.S93 2013</subfield></datafield><datafield tag=\"100\" ind1=\"1\" ind2=\" \"><subfield code=\"a\">Szamuely, George,</subfield><subfield code=\"e\">author.</subfield></datafield><datafield tag=\"240\" ind1=\"1\" ind2=\"0\"><subfield code=\"a\">Bombs for peace (Online)</subfield></datafield><datafield tag=\"245\" ind1=\"1\" ind2=\"0\"><subfield code=\"a\">Bombs for peace</subfield><subfield code=\"h\">[electronic resource] :</subfield><subfield code=\"b\">NATO's humanitarian war on Yugoslavia /</subfield><subfield code=\"c\">George Szamuely.</subfield></datafield><datafield tag=\"246\" ind1=\"2\" ind2=\" \"><subfield code=\"a\">Bombs for Peace: NATO's Humanitarian War on Yugoslavia</subfield></datafield><datafield tag=\"264\" ind1=\" \" ind2=\"1\"><subfield code=\"a\">Amsterdam :</subfield><subfield code=\"b\">Amsterdam University Press,</subfield><subfield code=\"c\">[2013]</subfield></datafield><datafield tag=\"504\" ind1=\" \" ind2=\" \"><subfield code=\"a\">Includes bibliographical references (pages [533]-581) and index.</subfield></datafield><datafield tag=\"610\" ind1=\"2\" ind2=\"0\"><subfield code=\"a\">North Atlantic Treaty Organization</subfield><subfield code=\"z\">Former Yugoslav republics.</subfield></datafield><datafield tag=\"650\" ind1=\" \" ind2=\"0\"><subfield code=\"a\">Humanitarian intervention</subfield><subfield code=\"z\">Former Yugoslav Republics.</subfield></datafield><datafield tag=\"650\" ind1=\" \" ind2=\"0\"><subfield code=\"a\">Yugoslav War, 1991-1995.</subfield></datafield><datafield tag=\"651\" ind1=\" \" ind2=\"0\"><subfield code=\"a\">Yugoslavia</subfield><subfield code=\"x\">History</subfield><subfield code=\"y\">1992-2003.</subfield></datafield><datafield tag=\"773\" ind1=\"0\" ind2=\" \"><subfield code=\"t\">ACLS Humanities Ebooks</subfield><subfield code=\"d\">American Council of Learned Societies</subfield></datafield><datafield tag=\"776\" ind1=\"1\" ind2=\" \"><subfield code=\"t\">Bombs for peace</subfield><subfield code=\"w\">(CaONFCNI)cou25433495</subfield><subfield code=\"w\">(DLC)2016383856</subfield></datafield><datafield tag=\"856\" ind1=\"4\" ind2=\"0\"><subfield code=\"3\">Full text available: 2013.</subfield><subfield code=\"z\">Available in ACLS Humanities Ebooks.</subfield><subfield code=\"u\">https://hdl.handle.net/2027/heb40399.0001.001</subfield></datafield></record>"
        ],
        [
         "5",
         "ebsco",
         "ebs2888525e",
         "<record xmlns=\"http://www.loc.gov/MARC21/slim\"><leader>00000nmm a22000003a 4500</leader><controlfield tag=\"001\">ebs2888525e</controlfield><controlfield tag=\"003\">EBZ</controlfield><controlfield tag=\"006\">m     o  d  ||||||</controlfield><controlfield tag=\"007\">cr|unu||||||||</controlfield><controlfield tag=\"008\">240328t20142014nyu    fo  d z      eng d</controlfield><datafield tag=\"020\" ind1=\" \" ind2=\" \"><subfield code=\"z\">9781438451688</subfield></datafield><datafield tag=\"020\" ind1=\" \" ind2=\" \"><subfield code=\"z\">9781438451695</subfield></datafield><datafield tag=\"020\" ind1=\" \" ind2=\" \"><subfield code=\"a\">9781438451701 (online)</subfield></datafield><datafield tag=\"035\" ind1=\" \" ind2=\" \"><subfield code=\"a\">(DE-B1597)682147</subfield></datafield><datafield tag=\"035\" ind1=\" \" ind2=\" \"><subfield code=\"a\">(EBZ)ebs2888525e</subfield></datafield><datafield tag=\"040\" ind1=\" \" ind2=\" \"><subfield code=\"a\">DE-B1597</subfield><subfield code=\"b\">eng</subfield><subfield code=\"c\">DE-B1597</subfield><subfield code=\"e\">rda</subfield><subfield code=\"d\">EBZ</subfield></datafield><datafield tag=\"042\" ind1=\" \" ind2=\" \"><subfield code=\"a\">msc</subfield></datafield><datafield tag=\"100\" ind1=\"1\" ind2=\" \"><subfield code=\"a\">Sullivan, Shannon, </subfield><subfield code=\"e\">author.</subfield><subfield code=\"4\">aut</subfield><subfield code=\"4\">http://id.loc.gov/vocabulary/relators/aut</subfield></datafield><datafield tag=\"240\" ind1=\"1\" ind2=\"0\"><subfield code=\"a\">Good White People (Online)</subfield></datafield><datafield tag=\"245\" ind1=\"1\" ind2=\"0\"><subfield code=\"a\">Good White People</subfield><subfield code=\"h\">[electronic resource] :</subfield><subfield code=\"b\">The Problem with Middle-Class White Anti-Racism /</subfield><subfield code=\"c\">Shannon Sullivan.</subfield></datafield><datafield tag=\"246\" ind1=\"2\" ind2=\" \"><subfield code=\"a\">Good White People: The Problem with Middle-Class White Anti-Racism</subfield></datafield><datafield tag=\"264\" ind1=\" \" ind2=\"1\"><subfield code=\"a\">Albany : </subfield><subfield code=\"b\">SUNY Press, </subfield><subfield code=\"c\">[2014]</subfield></datafield><datafield tag=\"264\" ind1=\" \" ind2=\"4\"><subfield code=\"c\">©2014</subfield></datafield><datafield tag=\"490\" ind1=\"0\" ind2=\" \"><subfield code=\"a\">SUNY series, Philosophy and Race</subfield></datafield><datafield tag=\"505\" ind1=\"0\" ind2=\"0\"><subfield code=\"t\">Front Matter -- </subfield><subfield code=\"t\">Contents -- </subfield><subfield code=\"t\">Acknowledgments -- </subfield><subfield code=\"t\">Good White Liberals -- </subfield><subfield code=\"t\">Dumping on White Trash -- </subfield><subfield code=\"t\">Demonizing White Ancestors -- </subfield><subfield code=\"t\">The Dis-ease of Color Blindness -- </subfield><subfield code=\"t\">The Dangers of White Guilt, Shame, and Betrayal -- </subfield><subfield code=\"t\">Conclusion -- </subfield><subfield code=\"t\">Notes -- </subfield><subfield code=\"t\">Bibliography -- </subfield><subfield code=\"t\">Index</subfield></datafield><datafield tag=\"506\" ind1=\"0\" ind2=\" \"><subfield code=\"a\">restricted access</subfield><subfield code=\"u\">http://purl.org/coar/access_right/c_16ec</subfield><subfield code=\"f\">online access with authorization</subfield><subfield code=\"2\">star</subfield></datafield><datafield tag=\"520\" ind1=\" \" ind2=\" \"><subfield code=\"a\">Winner of the 2016 Society of Professors of Education Outstanding Book Award presented by the Society of Professors of Education2014 CHOICE Outstanding Academic TitleBuilding on her book Revealing Whiteness, Shannon Sullivan identifies a constellation of attitudes common among well-meaning white liberals that she sums up as \"white middle-class goodness,\" an orientation she critiques for being more concerned with establishing anti-racist bona fides than with confronting systematic racism and privilege. Sullivan untangles the complex relationships between class and race in contemporary white identity and outlines four ways this orientation is expressed, each serving to establish one's lack of racism: the denigration of lower-class white people as responsible for ongoing white racism, the demonization of antebellum slaveholders, an emphasis on colorblindness—especially in the context of white childrearing—and the cultivation of attitudes of white guilt, shame, and betrayal. To move beyond these distancing strategies, Sullivan argues, white people need a new ethos that acknowledges and transforms their whiteness in the pursuit of racial justice rather than seeking a self-righteous distance from it.</subfield></datafield><datafield tag=\"538\" ind1=\" \" ind2=\" \"><subfield code=\"a\">Mode of access: Internet via World Wide Web.</subfield></datafield><datafield tag=\"546\" ind1=\" \" ind2=\" \"><subfield code=\"a\">In English.</subfield></datafield><datafield tag=\"650\" ind1=\" \" ind2=\"0\"><subfield code=\"a\">Anti-racism -- United States.</subfield></datafield><datafield tag=\"650\" ind1=\" \" ind2=\"0\"><subfield code=\"a\">Anti-racism</subfield><subfield code=\"z\">United States.</subfield></datafield><datafield tag=\"650\" ind1=\" \" ind2=\"0\"><subfield code=\"a\">Middle class -- United States.</subfield></datafield><datafield tag=\"650\" ind1=\" \" ind2=\"0\"><subfield code=\"a\">Middle class</subfield><subfield code=\"z\">United States.</subfield></datafield><datafield tag=\"650\" ind1=\" \" ind2=\"0\"><subfield code=\"a\">United States -- Race relations.</subfield></datafield><datafield tag=\"650\" ind1=\" \" ind2=\"0\"><subfield code=\"a\">United States -- Social conditions -- 1980-.</subfield></datafield><datafield tag=\"650\" ind1=\" \" ind2=\"0\"><subfield code=\"a\">White people</subfield><subfield code=\"z\">United States</subfield><subfield code=\"x\">Attitudes.</subfield></datafield><datafield tag=\"650\" ind1=\" \" ind2=\"0\"><subfield code=\"a\">Whites -- United States -- Attitudes.</subfield></datafield><datafield tag=\"650\" ind1=\" \" ind2=\"0\"><subfield code=\"a\">Whites</subfield><subfield code=\"z\">United States</subfield><subfield code=\"x\">Attitudes.</subfield></datafield><datafield tag=\"650\" ind1=\" \" ind2=\"4\"><subfield code=\"a\">Cultural Studies : Cultural Studies.</subfield></datafield><datafield tag=\"650\" ind1=\" \" ind2=\"4\"><subfield code=\"a\">Philosophy : Philosophy.</subfield></datafield><datafield tag=\"650\" ind1=\" \" ind2=\"4\"><subfield code=\"a\">Psychology : Psychology.</subfield></datafield><datafield tag=\"650\" ind1=\" \" ind2=\"4\"><subfield code=\"a\">Sociology : Social Change.</subfield></datafield><datafield tag=\"650\" ind1=\" \" ind2=\"4\"><subfield code=\"a\">Sociology : Sociology.</subfield></datafield><datafield tag=\"650\" ind1=\" \" ind2=\"7\"><subfield code=\"a\">SOCIAL SCIENCE / Discrimination &amp; Race Relations.</subfield><subfield code=\"2\">bisacsh</subfield></datafield><datafield tag=\"773\" ind1=\"0\" ind2=\" \"><subfield code=\"t\">ACLS Humanities Ebooks</subfield><subfield code=\"d\">American Council of Learned Societies</subfield></datafield><datafield tag=\"856\" ind1=\"4\" ind2=\"0\"><subfield code=\"3\">Full text available: 2014.</subfield><subfield code=\"z\">Available in ACLS Humanities Ebooks.</subfield><subfield code=\"u\">https://hdl.handle.net/2027/heb40051.0001.001</subfield></datafield></record>"
        ],
        [
         "6",
         "ebsco",
         "ebs2888872e",
         "<record xmlns=\"http://www.loc.gov/MARC21/slim\"><leader>00000cam a22000003a 4500</leader><controlfield tag=\"001\">ebs2888872e</controlfield><controlfield tag=\"003\">EBZ</controlfield><controlfield tag=\"006\">m     o  d  ||||||</controlfield><controlfield tag=\"007\">cr|unu||||||||</controlfield><controlfield tag=\"008\">070511s2007    njua    ob    001 0 eng  </controlfield><datafield tag=\"020\" ind1=\" \" ind2=\" \"><subfield code=\"z\">9780691089713</subfield></datafield><datafield tag=\"020\" ind1=\" \" ind2=\" \"><subfield code=\"z\">9780691143170</subfield></datafield><datafield tag=\"020\" ind1=\" \" ind2=\" \"><subfield code=\"a\">9781400832743 (online)</subfield></datafield><datafield tag=\"035\" ind1=\" \" ind2=\" \"><subfield code=\"a\">(OCoLC)ocn128237756</subfield></datafield><datafield tag=\"035\" ind1=\" \" ind2=\" \"><subfield code=\"a\">(OCoLC)128237756</subfield><subfield code=\"z\">(OCoLC)154694588</subfield></datafield><datafield tag=\"035\" ind1=\" \" ind2=\" \"><subfield code=\"a\">(EBZ)ebs2888872e</subfield></datafield><datafield tag=\"040\" ind1=\" \" ind2=\" \"><subfield code=\"a\">DLC</subfield><subfield code=\"c\">DLC</subfield><subfield code=\"d\">EBZ</subfield></datafield><datafield tag=\"042\" ind1=\" \" ind2=\" \"><subfield code=\"a\">msc</subfield></datafield><datafield tag=\"050\" ind1=\"0\" ind2=\"0\"><subfield code=\"a\">DS134.26</subfield><subfield code=\"b\">.G76 2007</subfield></datafield><datafield tag=\"100\" ind1=\"1\" ind2=\" \"><subfield code=\"a\">Grossmann, Atina.</subfield></datafield><datafield tag=\"240\" ind1=\"1\" ind2=\"0\"><subfield code=\"a\">Jews, Germans, and Allies (Online)</subfield></datafield><datafield tag=\"245\" ind1=\"1\" ind2=\"0\"><subfield code=\"a\">Jews, Germans, and Allies</subfield><subfield code=\"h\">[electronic resource] :</subfield><subfield code=\"b\">close encounters in occupied Germany /</subfield><subfield code=\"c\">Atina Grossmann.</subfield></datafield><datafield tag=\"246\" ind1=\"2\" ind2=\" \"><subfield code=\"a\">Jews, Germans, and Allies: Close Encounters in Occupied Germany</subfield></datafield><datafield tag=\"260\" ind1=\" \" ind2=\" \"><subfield code=\"a\">Princeton :</subfield><subfield code=\"b\">Princeton University Press,</subfield><subfield code=\"c\">c2007.</subfield></datafield><datafield tag=\"504\" ind1=\" \" ind2=\" \"><subfield code=\"a\">Includes bibliographical references (p. [359]-367) and index.</subfield></datafield><datafield tag=\"505\" ind1=\"0\" ind2=\" \"><subfield code=\"a\">\"Poor Germany\": Berlin and the Occupation -- Gendered Defeat: Rape, Motherhood, and Fraternization -- \"The Survivors were Few and the Dead were Many\": Jews in occupied Berlin -- The Saved and Saving Remnant: Jewish Displaced Persons in the American Zone -- Mir zaynen do: Sex, Work and the DP Baby Boom -- Conclusion: The \"Interregnum\" Ends.</subfield></datafield><datafield tag=\"650\" ind1=\" \" ind2=\"0\"><subfield code=\"a\">Jews</subfield><subfield code=\"z\">Germany</subfield><subfield code=\"x\">History</subfield><subfield code=\"y\">1945-1990.</subfield></datafield><datafield tag=\"650\" ind1=\" \" ind2=\"0\"><subfield code=\"a\">Holocaust survivors</subfield><subfield code=\"z\">Germany</subfield><subfield code=\"x\">History</subfield><subfield code=\"y\">20th century.</subfield></datafield><datafield tag=\"650\" ind1=\" \" ind2=\"0\"><subfield code=\"a\">Jews</subfield><subfield code=\"z\">Germany</subfield><subfield code=\"x\">Politics and government</subfield><subfield code=\"y\">20th century.</subfield></datafield><datafield tag=\"651\" ind1=\" \" ind2=\"0\"><subfield code=\"a\">Germany</subfield><subfield code=\"x\">Ethnic relations.</subfield></datafield><datafield tag=\"773\" ind1=\"0\" ind2=\" \"><subfield code=\"t\">ACLS Humanities Ebooks</subfield><subfield code=\"d\">American Council of Learned Societies</subfield></datafield><datafield tag=\"776\" ind1=\"1\" ind2=\" \"><subfield code=\"t\">Jews, Germans, and Allies</subfield><subfield code=\"w\">(OCoLC)128237756</subfield><subfield code=\"w\">(DLC)2007019952</subfield></datafield><datafield tag=\"856\" ind1=\"4\" ind2=\"0\"><subfield code=\"3\">Full text available: 2009.</subfield><subfield code=\"z\">Available in ACLS Humanities Ebooks.</subfield><subfield code=\"u\">https://hdl.handle.net/2027/heb08937.0001.001</subfield></datafield></record>"
        ],
        [
         "7",
         "ebsco",
         "ebs2890273e",
         "<record xmlns=\"http://www.loc.gov/MARC21/slim\"><leader>00000cam a22000003a 4500</leader><controlfield tag=\"001\">ebs2890273e</controlfield><controlfield tag=\"003\">EBZ</controlfield><controlfield tag=\"006\">m     o  d  ||||||</controlfield><controlfield tag=\"007\">cr|unu||||||||</controlfield><controlfield tag=\"008\">920408s1993    enka    ob    001 0 eng  </controlfield><datafield tag=\"020\" ind1=\" \" ind2=\" \"><subfield code=\"z\">9780415084444</subfield></datafield><datafield tag=\"020\" ind1=\" \" ind2=\" \"><subfield code=\"z\">9780415115858</subfield></datafield><datafield tag=\"020\" ind1=\" \" ind2=\" \"><subfield code=\"a\">9780203754245 (online)</subfield></datafield><datafield tag=\"020\" ind1=\" \" ind2=\" \"><subfield code=\"a\">9781134679423 (online)</subfield></datafield><datafield tag=\"035\" ind1=\" \" ind2=\" \"><subfield code=\"a\">(EBZ)ebs2890273e</subfield></datafield><datafield tag=\"040\" ind1=\" \" ind2=\" \"><subfield code=\"a\">DLC</subfield><subfield code=\"c\">DLC</subfield><subfield code=\"d\">EBZ</subfield></datafield><datafield tag=\"042\" ind1=\" \" ind2=\" \"><subfield code=\"a\">msc</subfield></datafield><datafield tag=\"050\" ind1=\"0\" ind2=\"0\"><subfield code=\"a\">GN861</subfield><subfield code=\"b\">.A73 1993</subfield></datafield><datafield tag=\"130\" ind1=\"0\" ind2=\" \"><subfield code=\"a\">Archaeology of Africa (Online)</subfield></datafield><datafield tag=\"245\" ind1=\"0\" ind2=\"4\"><subfield code=\"a\">The Archaeology of Africa</subfield><subfield code=\"h\">[electronic resource] :</subfield><subfield code=\"b\">foods, metals, and towns /</subfield><subfield code=\"c\">edited by Thurstan Shaw ... [et al.].</subfield></datafield><datafield tag=\"246\" ind1=\"2\" ind2=\" \"><subfield code=\"a\">The Archaeology of Africa: Food, Metals and Towns</subfield></datafield><datafield tag=\"260\" ind1=\" \" ind2=\" \"><subfield code=\"a\">London ;</subfield><subfield code=\"a\">New York :</subfield><subfield code=\"b\">Routledge,</subfield><subfield code=\"c\">1993.</subfield></datafield><datafield tag=\"504\" ind1=\" \" ind2=\" \"><subfield code=\"a\">Includes bibliographical references (p. [750]-833) and indexes.</subfield></datafield><datafield tag=\"650\" ind1=\" \" ind2=\"0\"><subfield code=\"a\">Prehistoric peoples</subfield><subfield code=\"z\">Africa.</subfield></datafield><datafield tag=\"650\" ind1=\" \" ind2=\"0\"><subfield code=\"a\">Agriculture, Prehistoric</subfield><subfield code=\"z\">Africa.</subfield></datafield><datafield tag=\"650\" ind1=\" \" ind2=\"0\"><subfield code=\"a\">Commerce, Prehistoric</subfield><subfield code=\"z\">Africa.</subfield></datafield><datafield tag=\"651\" ind1=\" \" ind2=\"0\"><subfield code=\"a\">Africa</subfield><subfield code=\"x\">Antiquities.</subfield></datafield><datafield tag=\"700\" ind1=\"1\" ind2=\"0\"><subfield code=\"a\">Shaw, Thurstan.</subfield></datafield><datafield tag=\"773\" ind1=\"0\" ind2=\" \"><subfield code=\"t\">ACLS Humanities Ebooks</subfield><subfield code=\"d\">American Council of Learned Societies</subfield></datafield><datafield tag=\"776\" ind1=\"1\" ind2=\" \"><subfield code=\"t\">The Archaeology of Africa</subfield><subfield code=\"w\">(DLC)92013921 //r972</subfield></datafield><datafield tag=\"856\" ind1=\"4\" ind2=\"0\"><subfield code=\"3\">Full text available: 2024.</subfield><subfield code=\"z\">Available in ACLS Humanities Ebooks.</subfield><subfield code=\"u\">https://hdl.handle.net/2027/heb40221.0001.001</subfield></datafield></record>"
        ],
        [
         "8",
         "ebsco",
         "ebs2890473e",
         "<record xmlns=\"http://www.loc.gov/MARC21/slim\"><leader>00000cam a22000003a 4500</leader><controlfield tag=\"001\">ebs2890473e</controlfield><controlfield tag=\"003\">EBZ</controlfield><controlfield tag=\"006\">m     o  d  ||||||</controlfield><controlfield tag=\"007\">cr|unu||||||||</controlfield><controlfield tag=\"008\">081205s2009    nyua    ob    001 0 eng  </controlfield><datafield tag=\"020\" ind1=\" \" ind2=\" \"><subfield code=\"z\">9780815632016</subfield></datafield><datafield tag=\"020\" ind1=\" \" ind2=\" \"><subfield code=\"z\">9780815633549</subfield></datafield><datafield tag=\"020\" ind1=\" \" ind2=\" \"><subfield code=\"a\">9780815652670 (online)</subfield></datafield><datafield tag=\"035\" ind1=\" \" ind2=\" \"><subfield code=\"a\">(OCoLC)ocn281090526</subfield></datafield><datafield tag=\"035\" ind1=\" \" ind2=\" \"><subfield code=\"a\">(EBZ)ebs2890473e</subfield></datafield><datafield tag=\"040\" ind1=\" \" ind2=\" \"><subfield code=\"a\">DLC</subfield><subfield code=\"c\">DLC</subfield><subfield code=\"d\">EBZ</subfield></datafield><datafield tag=\"042\" ind1=\" \" ind2=\" \"><subfield code=\"a\">msc</subfield></datafield><datafield tag=\"050\" ind1=\"0\" ind2=\"0\"><subfield code=\"a\">HD6072.2.U5</subfield><subfield code=\"b\">L96 2009</subfield></datafield><datafield tag=\"100\" ind1=\"1\" ind2=\" \"><subfield code=\"a\">Lynch-Brennan, Margaret.</subfield></datafield><datafield tag=\"240\" ind1=\"1\" ind2=\"0\"><subfield code=\"a\">Irish Bridget (Online)</subfield></datafield><datafield tag=\"245\" ind1=\"1\" ind2=\"4\"><subfield code=\"a\">The Irish Bridget</subfield><subfield code=\"h\">[electronic resource] :</subfield><subfield code=\"b\">Irish immigrant women in domestic service in America, 1840-1930 /</subfield><subfield code=\"c\">Margaret Lynch-Brennan ; with a foreword by Maureen O'Rourke Murphy.</subfield></datafield><datafield tag=\"246\" ind1=\"2\" ind2=\" \"><subfield code=\"a\">The Irish Bridget: Irish Immigrant Women in Domestic Service in America, 1840-1930</subfield></datafield><datafield tag=\"250\" ind1=\" \" ind2=\" \"><subfield code=\"a\">1st ed.</subfield></datafield><datafield tag=\"260\" ind1=\" \" ind2=\" \"><subfield code=\"a\">Syracuse, N.Y. :</subfield><subfield code=\"b\">Syracuse University Press,</subfield><subfield code=\"c\">2009.</subfield></datafield><datafield tag=\"490\" ind1=\"1\" ind2=\" \"><subfield code=\"a\">Irish studies</subfield></datafield><datafield tag=\"504\" ind1=\" \" ind2=\" \"><subfield code=\"a\">Includes bibliographical references (p. 185-208) and index.</subfield></datafield><datafield tag=\"505\" ind1=\"0\" ind2=\" \"><subfield code=\"a\">Home life in Ireland -- From Ireland -- To America -- The world of the American mistress -- The work world of the Irish Bridget -- The social world of the Irish Bridget -- Was Bridget's experience unique?</subfield></datafield><datafield tag=\"650\" ind1=\" \" ind2=\"0\"><subfield code=\"a\">Household employees</subfield><subfield code=\"z\">United States</subfield><subfield code=\"x\">History</subfield><subfield code=\"y\">19th century.</subfield></datafield><datafield tag=\"650\" ind1=\" \" ind2=\"0\"><subfield code=\"a\">Household employees</subfield><subfield code=\"z\">United States</subfield><subfield code=\"x\">History</subfield><subfield code=\"y\">20th century.</subfield></datafield><datafield tag=\"650\" ind1=\" \" ind2=\"0\"><subfield code=\"a\">Immigrants</subfield><subfield code=\"z\">United States</subfield><subfield code=\"x\">History</subfield><subfield code=\"y\">19th century.</subfield></datafield><datafield tag=\"650\" ind1=\" \" ind2=\"0\"><subfield code=\"a\">Immigrants</subfield><subfield code=\"z\">United States</subfield><subfield code=\"x\">History</subfield><subfield code=\"y\">20th century.</subfield></datafield><datafield tag=\"650\" ind1=\" \" ind2=\"0\"><subfield code=\"a\">Irish American women</subfield><subfield code=\"z\">United States</subfield><subfield code=\"x\">History</subfield><subfield code=\"y\">19th century.</subfield></datafield><datafield tag=\"650\" ind1=\" \" ind2=\"0\"><subfield code=\"a\">Irish American women</subfield><subfield code=\"z\">United States</subfield><subfield code=\"x\">History</subfield><subfield code=\"y\">20th century.</subfield></datafield><datafield tag=\"773\" ind1=\"0\" ind2=\" \"><subfield code=\"t\">ACLS Humanities Ebooks</subfield><subfield code=\"d\">American Council of Learned Societies</subfield></datafield><datafield tag=\"776\" ind1=\"1\" ind2=\" \"><subfield code=\"t\">The Irish Bridget</subfield><subfield code=\"w\">(OCoLC)ocn281090526</subfield><subfield code=\"w\">(DLC)2008051731</subfield></datafield><datafield tag=\"830\" ind1=\" \" ind2=\"0\"><subfield code=\"a\">Irish studies (Syracuse, N.Y.)</subfield></datafield><datafield tag=\"856\" ind1=\"4\" ind2=\"0\"><subfield code=\"3\">Full text available: 2014.</subfield><subfield code=\"z\">Available in ACLS Humanities Ebooks.</subfield><subfield code=\"u\">https://hdl.handle.net/2027/heb40053.0001.001</subfield></datafield></record>"
        ],
        [
         "9",
         "ebsco",
         "ebs28915504e",
         "<record xmlns=\"http://www.loc.gov/MARC21/slim\"><leader>00000cam a22000003a 4500</leader><controlfield tag=\"001\">ebs28915504e</controlfield><controlfield tag=\"003\">EBZ</controlfield><controlfield tag=\"006\">m     o  d  ||||||</controlfield><controlfield tag=\"007\">cr|unu||||||||</controlfield><controlfield tag=\"008\">850501s1986    ilu     o     000 0 eng  </controlfield><datafield tag=\"020\" ind1=\" \" ind2=\" \"><subfield code=\"z\">9780226561356</subfield></datafield><datafield tag=\"035\" ind1=\" \" ind2=\" \"><subfield code=\"a\">(EBZ)ebs28915504e</subfield></datafield><datafield tag=\"040\" ind1=\" \" ind2=\" \"><subfield code=\"a\">DLC</subfield><subfield code=\"c\">DLC</subfield><subfield code=\"d\">EBZ</subfield></datafield><datafield tag=\"042\" ind1=\" \" ind2=\" \"><subfield code=\"a\">msc</subfield></datafield><datafield tag=\"050\" ind1=\"0\" ind2=\"0\"><subfield code=\"a\">D16.8</subfield><subfield code=\"b\">.M39 1986</subfield></datafield><datafield tag=\"100\" ind1=\"1\" ind2=\" \"><subfield code=\"a\">McNeill, William Hardy,</subfield><subfield code=\"d\">1917-2016.</subfield></datafield><datafield tag=\"240\" ind1=\"1\" ind2=\"0\"><subfield code=\"a\">Mythistory and other essays (Online)</subfield></datafield><datafield tag=\"245\" ind1=\"1\" ind2=\"0\"><subfield code=\"a\">Mythistory and other essays</subfield><subfield code=\"h\">[electronic resource] /</subfield><subfield code=\"c\">William H. McNeill.</subfield></datafield><datafield tag=\"260\" ind1=\" \" ind2=\" \"><subfield code=\"a\">Chicago :</subfield><subfield code=\"b\">University of Chicago Press,</subfield><subfield code=\"c\">1986.</subfield></datafield><datafield tag=\"650\" ind1=\" \" ind2=\"0\"><subfield code=\"a\">History</subfield><subfield code=\"x\">Philosophy.</subfield></datafield><datafield tag=\"650\" ind1=\" \" ind2=\"0\"><subfield code=\"a\">Historians.</subfield></datafield><datafield tag=\"773\" ind1=\"0\" ind2=\" \"><subfield code=\"t\">ACLS Humanities Ebooks</subfield><subfield code=\"d\">American Council of Learned Societies</subfield></datafield><datafield tag=\"776\" ind1=\"1\" ind2=\" \"><subfield code=\"t\">Mythistory and other essays /</subfield><subfield code=\"w\">(DLC)85008584</subfield></datafield><datafield tag=\"856\" ind1=\"4\" ind2=\"0\"><subfield code=\"3\">Full text available: 1986.</subfield><subfield code=\"z\">Available in ACLS Humanities Ebooks.</subfield><subfield code=\"u\">https://hdl.handle.net/2027/heb03069.0001.001</subfield></datafield></record>"
        ]
       ],
       "shape": {
        "columns": 3,
        "rows": 10
       }
      },
      "text/html": [
       "<div>\n",
       "<style scoped>\n",
       "    .dataframe tbody tr th:only-of-type {\n",
       "        vertical-align: middle;\n",
       "    }\n",
       "\n",
       "    .dataframe tbody tr th {\n",
       "        vertical-align: top;\n",
       "    }\n",
       "\n",
       "    .dataframe thead th {\n",
       "        text-align: right;\n",
       "    }\n",
       "</style>\n",
       "<table border=\"1\" class=\"dataframe\">\n",
       "  <thead>\n",
       "    <tr style=\"text-align: right;\">\n",
       "      <th></th>\n",
       "      <th>namespace</th>\n",
       "      <th>id</th>\n",
       "      <th>content</th>\n",
       "    </tr>\n",
       "  </thead>\n",
       "  <tbody>\n",
       "    <tr>\n",
       "      <th>0</th>\n",
       "      <td>ebsco</td>\n",
       "      <td>ebs977679e</td>\n",
       "      <td>&lt;record xmlns=\"http://www.loc.gov/MARC21/slim\"...</td>\n",
       "    </tr>\n",
       "    <tr>\n",
       "      <th>1</th>\n",
       "      <td>ebsco</td>\n",
       "      <td>ebs589913e</td>\n",
       "      <td>None</td>\n",
       "    </tr>\n",
       "    <tr>\n",
       "      <th>2</th>\n",
       "      <td>ebsco</td>\n",
       "      <td>ebs984463e</td>\n",
       "      <td>None</td>\n",
       "    </tr>\n",
       "    <tr>\n",
       "      <th>3</th>\n",
       "      <td>ebsco</td>\n",
       "      <td>ebs28843e</td>\n",
       "      <td>&lt;record xmlns=\"http://www.loc.gov/MARC21/slim\"...</td>\n",
       "    </tr>\n",
       "    <tr>\n",
       "      <th>4</th>\n",
       "      <td>ebsco</td>\n",
       "      <td>ebs2887553e</td>\n",
       "      <td>&lt;record xmlns=\"http://www.loc.gov/MARC21/slim\"...</td>\n",
       "    </tr>\n",
       "    <tr>\n",
       "      <th>5</th>\n",
       "      <td>ebsco</td>\n",
       "      <td>ebs2888525e</td>\n",
       "      <td>&lt;record xmlns=\"http://www.loc.gov/MARC21/slim\"...</td>\n",
       "    </tr>\n",
       "    <tr>\n",
       "      <th>6</th>\n",
       "      <td>ebsco</td>\n",
       "      <td>ebs2888872e</td>\n",
       "      <td>&lt;record xmlns=\"http://www.loc.gov/MARC21/slim\"...</td>\n",
       "    </tr>\n",
       "    <tr>\n",
       "      <th>7</th>\n",
       "      <td>ebsco</td>\n",
       "      <td>ebs2890273e</td>\n",
       "      <td>&lt;record xmlns=\"http://www.loc.gov/MARC21/slim\"...</td>\n",
       "    </tr>\n",
       "    <tr>\n",
       "      <th>8</th>\n",
       "      <td>ebsco</td>\n",
       "      <td>ebs2890473e</td>\n",
       "      <td>&lt;record xmlns=\"http://www.loc.gov/MARC21/slim\"...</td>\n",
       "    </tr>\n",
       "    <tr>\n",
       "      <th>9</th>\n",
       "      <td>ebsco</td>\n",
       "      <td>ebs28915504e</td>\n",
       "      <td>&lt;record xmlns=\"http://www.loc.gov/MARC21/slim\"...</td>\n",
       "    </tr>\n",
       "  </tbody>\n",
       "</table>\n",
       "</div>"
      ],
      "text/plain": [
       "  namespace            id                                            content\n",
       "0     ebsco    ebs977679e  <record xmlns=\"http://www.loc.gov/MARC21/slim\"...\n",
       "1     ebsco    ebs589913e                                               None\n",
       "2     ebsco    ebs984463e                                               None\n",
       "3     ebsco     ebs28843e  <record xmlns=\"http://www.loc.gov/MARC21/slim\"...\n",
       "4     ebsco   ebs2887553e  <record xmlns=\"http://www.loc.gov/MARC21/slim\"...\n",
       "5     ebsco   ebs2888525e  <record xmlns=\"http://www.loc.gov/MARC21/slim\"...\n",
       "6     ebsco   ebs2888872e  <record xmlns=\"http://www.loc.gov/MARC21/slim\"...\n",
       "7     ebsco   ebs2890273e  <record xmlns=\"http://www.loc.gov/MARC21/slim\"...\n",
       "8     ebsco   ebs2890473e  <record xmlns=\"http://www.loc.gov/MARC21/slim\"...\n",
       "9     ebsco  ebs28915504e  <record xmlns=\"http://www.loc.gov/MARC21/slim\"..."
      ]
     },
     "metadata": {},
     "output_type": "display_data"
    }
   ],
   "source": [
    "# Retrieve the first 10 data rows (excluding any projection to keep all columns)\n",
    "first_10 = table.scan(\n",
    "    selected_fields=(\"namespace\", \"id\", \"content\"),\n",
    "    limit=10,\n",
    ").to_arrow()\n",
    "\n",
    "print(f\"Fetched {first_10.num_rows} rows\")\n",
    "\n",
    "# Display nicely (Arrow -> pandas DataFrame) if pandas is available\n",
    "try:\n",
    "    display(first_10.to_pandas())  # type: ignore[name-defined]\n",
    "except Exception:\n",
    "    # Fallback: print as list of dicts\n",
    "    from pprint import pprint\n",
    "\n",
    "    pprint(first_10.to_pylist())"
   ]
  },
  {
   "cell_type": "code",
   "execution_count": 24,
   "id": "51244b4c",
   "metadata": {},
   "outputs": [
    {
     "name": "stdout",
     "output_type": "stream",
     "text": [
      "Rows before delete: 183718\n"
     ]
    }
   ],
   "source": [
    "# Delete all rows using pyiceberg's row-level delete API only (no fallback).\n",
    "# Run the table-loading cell first so `table` is defined.\n",
    "\n",
    "# WARNING: This will irreversibly delete all data in the table!!!\n",
    "# DO NOT run this cell if you are not absolutely sure what you're doing.\n",
    "\n",
    "\n",
    "try:\n",
    "    _ = table.schema()\n",
    "except NameError as e:  # pragma: no cover\n",
    "    raise RuntimeError(\n",
    "        \"`table` is not defined. Run the table-loading cell first.\"\n",
    "    ) from e\n",
    "\n",
    "before_count = table.scan().count()\n",
    "print(f\"Rows before delete: {before_count}\")\n",
    "\n",
    "# with table.transaction() as tx:  # type: ignore[attr-defined]\n",
    "#     try:\n",
    "#         tx.delete(delete_filter=AlwaysTrue())  # type: ignore[attr-defined]\n",
    "#     except Exception as e:\n",
    "#         raise RuntimeError(\"Row-level delete failed.\") from e\n",
    "\n",
    "# after_count = table.scan().count()\n",
    "# print(f\"Rows after delete:  {after_count}\")\n",
    "# assert after_count == 0, \"Delete operation failed: table not empty\"\n",
    "# print(\"All rows deleted successfully via row-level delete.\")"
   ]
  },
  {
   "cell_type": "code",
   "execution_count": null,
   "id": "2880ebf5",
   "metadata": {},
   "outputs": [],
   "source": []
  }
 ],
 "metadata": {
  "kernelspec": {
   "display_name": "ebsco_adapter_iceberg",
   "language": "python",
   "name": "python3"
  },
  "language_info": {
   "codemirror_mode": {
    "name": "ipython",
    "version": 3
   },
   "file_extension": ".py",
   "mimetype": "text/x-python",
   "name": "python",
   "nbconvert_exporter": "python",
   "pygments_lexer": "ipython3",
   "version": "3.12.10"
  }
 },
 "nbformat": 4,
 "nbformat_minor": 5
}
