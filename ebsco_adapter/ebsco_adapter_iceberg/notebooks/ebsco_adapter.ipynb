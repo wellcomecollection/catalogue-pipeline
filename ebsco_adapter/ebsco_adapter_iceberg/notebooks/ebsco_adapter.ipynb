{
 "cells": [
  {
   "cell_type": "code",
   "execution_count": 30,
   "id": "8181fe9b",
   "metadata": {},
   "outputs": [
    {
     "name": "stdout",
     "output_type": "stream",
     "text": [
      "env: AWS_PROFILE=platform-developer\n",
      "Using wellcomecollection_catalogue.ebsco_adapter_table in wellcomecollection_catalogue catalog\n",
      "Using wellcomecollection_catalogue.ebsco_adapter_table in wellcomecollection_catalogue catalog\n",
      "Loaded Iceberg table: wellcomecollection_catalogue.ebsco_adapter_table\n",
      "Loaded Iceberg table: wellcomecollection_catalogue.ebsco_adapter_table\n"
     ]
    }
   ],
   "source": [
    "# Configure AWS profile for local development\n",
    "%env AWS_PROFILE=platform-developer\n",
    "\n",
    "# Example: Fetch the first 10 records from the Glue (S3) Iceberg table\n",
    "#\n",
    "# Prerequisites:\n",
    "#   - AWS credentials with permission to call Glue + read underlying S3 data are available in your environment\n",
    "#   - (Optional) Override defaults with env vars: AWS_REGION, AWS_ACCOUNT_ID, S3_TABLES_BUCKET,\n",
    "#       GLUE_TABLE_NAME, GLUE_NAMESPACE\n",
    "#\n",
    "# This reuses the existing helper in `table_config.get_glue_table`.\n",
    "# If you just want to experiment locally without AWS, see Cell 2 (you can switch it to use get_local_table).\n",
    "\n",
    "from config import (\n",
    "    S3_TABLES_BUCKET,\n",
    "    GLUE_TABLE_NAME,\n",
    "    GLUE_NAMESPACE,\n",
    "    AWS_REGION,\n",
    "    AWS_ACCOUNT_ID,\n",
    ")\n",
    "from table_config import get_glue_table\n",
    "\n",
    "# Load the Iceberg table from the Glue catalog (S3-backed)\n",
    "table = get_glue_table(\n",
    "    s3_tables_bucket=S3_TABLES_BUCKET,\n",
    "    table_name=GLUE_TABLE_NAME,\n",
    "    namespace=GLUE_NAMESPACE,\n",
    "    region=AWS_REGION,\n",
    "    account_id=AWS_ACCOUNT_ID,\n",
    ")\n",
    "print(f\"Loaded Iceberg table: {GLUE_NAMESPACE}.{GLUE_TABLE_NAME}\")\n"
   ]
  },
  {
   "cell_type": "code",
   "execution_count": 31,
   "id": "36aaba20",
   "metadata": {},
   "outputs": [
    {
     "name": "stdout",
     "output_type": "stream",
     "text": [
      "Fetched 0 rows\n"
     ]
    },
    {
     "data": {
      "application/vnd.microsoft.datawrangler.viewer.v0+json": {
       "columns": [
        {
         "name": "index",
         "rawType": "int64",
         "type": "integer"
        },
        {
         "name": "namespace",
         "rawType": "object",
         "type": "string"
        },
        {
         "name": "id",
         "rawType": "object",
         "type": "string"
        },
        {
         "name": "content",
         "rawType": "object",
         "type": "string"
        }
       ],
       "ref": "c053c9cc-5c90-4cf9-9329-a18e589ac119",
       "rows": [],
       "shape": {
        "columns": 3,
        "rows": 0
       }
      },
      "text/html": [
       "<div>\n",
       "<style scoped>\n",
       "    .dataframe tbody tr th:only-of-type {\n",
       "        vertical-align: middle;\n",
       "    }\n",
       "\n",
       "    .dataframe tbody tr th {\n",
       "        vertical-align: top;\n",
       "    }\n",
       "\n",
       "    .dataframe thead th {\n",
       "        text-align: right;\n",
       "    }\n",
       "</style>\n",
       "<table border=\"1\" class=\"dataframe\">\n",
       "  <thead>\n",
       "    <tr style=\"text-align: right;\">\n",
       "      <th></th>\n",
       "      <th>namespace</th>\n",
       "      <th>id</th>\n",
       "      <th>content</th>\n",
       "    </tr>\n",
       "  </thead>\n",
       "  <tbody>\n",
       "  </tbody>\n",
       "</table>\n",
       "</div>"
      ],
      "text/plain": [
       "Empty DataFrame\n",
       "Columns: [namespace, id, content]\n",
       "Index: []"
      ]
     },
     "metadata": {},
     "output_type": "display_data"
    }
   ],
   "source": [
    "# Retrieve the first 10 data rows (excluding any projection to keep all columns)\n",
    "first_10 = table.scan(\n",
    "    selected_fields=(\"namespace\", \"id\", \"content\"),\n",
    "    limit=10,\n",
    ").to_arrow()\n",
    "\n",
    "print(f\"Fetched {first_10.num_rows} rows\")\n",
    "\n",
    "# Display nicely (Arrow -> pandas DataFrame) if pandas is available\n",
    "try:\n",
    "    display(first_10.to_pandas())  # type: ignore[name-defined]\n",
    "except Exception:\n",
    "    # Fallback: print as list of dicts\n",
    "    from pprint import pprint\n",
    "    pprint(first_10.to_pylist())"
   ]
  },
  {
   "cell_type": "code",
   "execution_count": null,
   "id": "51244b4c",
   "metadata": {},
   "outputs": [
    {
     "name": "stdout",
     "output_type": "stream",
     "text": [
      "Rows before delete: 183740\n",
      "Rows after delete:  0\n",
      "All rows deleted successfully via row-level delete.\n",
      "Rows after delete:  0\n",
      "All rows deleted successfully via row-level delete.\n"
     ]
    }
   ],
   "source": [
    "# Delete all rows using pyiceberg's row-level delete API only (no fallback).\n",
    "# Run the table-loading cell first so `table` is defined.\n",
    "\n",
    "# WARNING: This will irreversibly delete all data in the table!!!\n",
    "# DO NOT run this cell if you are not absolutely sure what you're doing.\n",
    "\n",
    "# from pyiceberg.expressions import AlwaysTrue\n",
    "\n",
    "# try:\n",
    "#     _ = table.schema()\n",
    "# except NameError as e:  # pragma: no cover\n",
    "#     raise RuntimeError(\"`table` is not defined. Run the table-loading cell first.\") from e\n",
    "\n",
    "# before_count = table.scan().count()\n",
    "# print(f\"Rows before delete: {before_count}\")\n",
    "\n",
    "# with table.transaction() as tx:  # type: ignore[attr-defined]\n",
    "#     try:\n",
    "#         tx.delete(delete_filter=AlwaysTrue())  # type: ignore[attr-defined]\n",
    "#     except Exception as e:\n",
    "#         raise RuntimeError(\"Row-level delete failed.\") from e\n",
    "\n",
    "# after_count = table.scan().count()\n",
    "# print(f\"Rows after delete:  {after_count}\")\n",
    "# assert after_count == 0, \"Delete operation failed: table not empty\"\n",
    "# print(\"All rows deleted successfully via row-level delete.\")\n"
   ]
  }
 ],
 "metadata": {
  "kernelspec": {
   "display_name": "ebsco_adapter_iceberg",
   "language": "python",
   "name": "python3"
  },
  "language_info": {
   "codemirror_mode": {
    "name": "ipython",
    "version": 3
   },
   "file_extension": ".py",
   "mimetype": "text/x-python",
   "name": "python",
   "nbconvert_exporter": "python",
   "pygments_lexer": "ipython3",
   "version": "3.12.10"
  }
 },
 "nbformat": 4,
 "nbformat_minor": 5
}
